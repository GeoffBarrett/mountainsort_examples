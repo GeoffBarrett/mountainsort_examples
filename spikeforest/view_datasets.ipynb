{
 "cells": [
  {
   "cell_type": "code",
   "execution_count": 1,
   "metadata": {},
   "outputs": [],
   "source": [
    "#######################################\n",
    "#imports\n",
    "#######################################\n",
    "\n",
    "%load_ext autoreload\n",
    "%autoreload 2\n",
    "\n",
    "import os, sys\n",
    "dir0 = os.path.split(os.getcwd())[0]\n",
    "if dir0 not in sys.path:\n",
    "    sys.path.append(dir0)\n",
    "\n",
    "import spikeforest_datasets as sd\n",
    "import spikeforestwidgets as SFW"
   ]
  },
  {
   "cell_type": "code",
   "execution_count": 2,
   "metadata": {},
   "outputs": [
    {
     "name": "stdout",
     "output_type": "stream",
     "text": [
      "Reading kbucket://b5ecdf1474c5/datasets/synth_datasets/datasets\n",
      "Reading kbucket://697623ec3681/kampff\n",
      "Reading kbucket://697623ec3681/boyden\n",
      "Reading kbucket://697623ec3681/bionet_8x\n",
      "Reading kbucket://697623ec3681/mea256yger\n"
     ]
    }
   ],
   "source": [
    "# Load datasets\n",
    "datasets=sd.load_standard_datasets()"
   ]
  },
  {
   "cell_type": "code",
   "execution_count": 3,
   "metadata": {},
   "outputs": [
    {
     "data": {
      "application/vnd.jupyter.widget-view+json": {
       "model_id": "56bf3df95cc94cf0a0cc61615a2b5d16",
       "version_major": 2,
       "version_minor": 0
      },
      "text/plain": [
       "JSProxyWidget(status='Not yet rendered')"
      ]
     },
     "metadata": {},
     "output_type": "display_data"
    }
   ],
   "source": [
    "# Select a dataset to view\n",
    "SS=SFW.DatasetSelectWidget(datasets)\n",
    "SS.display()"
   ]
  },
  {
   "cell_type": "code",
   "execution_count": 4,
   "metadata": {},
   "outputs": [
    {
     "data": {
      "application/vdom.v1+json": {
       "attributes": {},
       "children": "Dataset: boyden--1103_1_1",
       "tagName": "h3"
      },
      "text/plain": [
       "<h3 />"
      ]
     },
     "metadata": {},
     "output_type": "display_data"
    },
    {
     "data": {
      "application/vnd.jupyter.widget-view+json": {
       "model_id": "eb30465315c34ed89abe076d63dff5e3",
       "version_major": 2,
       "version_minor": 0
      },
      "text/plain": [
       "JSProxyWidget(status='Not yet rendered')"
      ]
     },
     "metadata": {},
     "output_type": "display_data"
    }
   ],
   "source": [
    "# View the dataset\n",
    "ds=SS.selectedDataset()\n",
    "sd.view_dataset(ds['raw_path'],dataset_id=ds['id'],external_link=False,visible_channels=[1,2,3,4,5])"
   ]
  },
  {
   "cell_type": "code",
   "execution_count": null,
   "metadata": {},
   "outputs": [],
   "source": []
  }
 ],
 "metadata": {
  "kernelspec": {
   "display_name": "Python 3",
   "language": "python",
   "name": "python3"
  },
  "language_info": {
   "codemirror_mode": {
    "name": "ipython",
    "version": 3
   },
   "file_extension": ".py",
   "mimetype": "text/x-python",
   "name": "python",
   "nbconvert_exporter": "python",
   "pygments_lexer": "ipython3",
   "version": "3.6.6"
  }
 },
 "nbformat": 4,
 "nbformat_minor": 2
}
