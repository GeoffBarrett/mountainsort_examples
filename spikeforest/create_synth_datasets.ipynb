{
 "cells": [
  {
   "cell_type": "code",
   "execution_count": null,
   "metadata": {},
   "outputs": [],
   "source": [
    "#######################################\n",
    "# Auto-reload development imports\n",
    "#######################################\n",
    "\n",
    "%load_ext autoreload\n",
    "%autoreload 2"
   ]
  },
  {
   "cell_type": "code",
   "execution_count": null,
   "metadata": {},
   "outputs": [],
   "source": [
    "#######################################\n",
    "#imports\n",
    "#######################################\n",
    "\n",
    "import os, sys\n",
    "from mountainlab_pytools import mlproc as mlp\n",
    "from jp_ephys_viz import ephys_viz_v1"
   ]
  },
  {
   "cell_type": "code",
   "execution_count": null,
   "metadata": {},
   "outputs": [],
   "source": [
    "dsopts=[]\n",
    "dsopts.append(dict(\n",
    "    id='synth_tetrode_30min',\n",
    "    num_channels=4,\n",
    "    duration=60*30,\n",
    "    average_snr=10\n",
    "))\n",
    "dsopts.append(dict(\n",
    "    id='synth_tetrode_120min',\n",
    "    num_channels=4,\n",
    "    duration=60*120,\n",
    "    average_snr=10\n",
    "))\n",
    "dsopts.append(dict(\n",
    "    id='synth_16ch_30min',\n",
    "    num_channels=16,\n",
    "    duration=60*30,\n",
    "    average_snr=10\n",
    "))"
   ]
  },
  {
   "cell_type": "code",
   "execution_count": null,
   "metadata": {},
   "outputs": [],
   "source": [
    "#######################################\n",
    "# Create output directory\n",
    "#######################################\n",
    "\n",
    "datasets_dir=os.getcwd()+'/datasets'\n",
    "if not os.path.exists(datasets_dir):\n",
    "    print('Creating directory: {}'.format(datasets_dir))\n",
    "    os.mkdir(datasets_dir)\n",
    "else:\n",
    "    print('Directory already exists: {}'.format(datasets_dir))"
   ]
  },
  {
   "cell_type": "code",
   "execution_count": null,
   "metadata": {},
   "outputs": [],
   "source": [
    "import json\n",
    "def synthesize_dataset(opts,output_directory):\n",
    "    if not os.path.exists(output_directory):\n",
    "        print('Creating directory: {}'.format(output_directory))\n",
    "        os.mkdir(output_directory)\n",
    "    else:\n",
    "        print('Directory already exists: {}'.format(output_directory))\n",
    "    mlp.addProcess(\n",
    "        'ephys.synthesize_random_firings',\n",
    "        dict(),\n",
    "        dict(\n",
    "            firings_out=output_directory+'/firings_true.mda'\n",
    "        ), \n",
    "        dict(\n",
    "            duration=opts['duration']\n",
    "        ),\n",
    "        dict()\n",
    "    )\n",
    "    mlp.addProcess(\n",
    "        'ephys.synthesize_random_waveforms',\n",
    "        dict(),\n",
    "        dict(\n",
    "            waveforms_out=output_directory+'/waveforms_true.mda',\n",
    "            geometry_out=output_directory+'/geom.csv'\n",
    "        ), \n",
    "        dict(\n",
    "            M=opts['num_channels'],\n",
    "            average_peak_amplitude=10*opts['average_snr']\n",
    "        ),\n",
    "        dict()\n",
    "    )\n",
    "    mlp.addProcess(\n",
    "        'ephys.synthesize_timeseries',\n",
    "        dict(\n",
    "            firings=output_directory+'/firings_true.mda',\n",
    "            waveforms=output_directory+'/waveforms_true.mda'\n",
    "        ),\n",
    "        dict(\n",
    "            timeseries_out=output_directory+'/raw.mda'\n",
    "        ), \n",
    "        dict(\n",
    "            duration=opts['duration'],\n",
    "            waveform_upsamplefac=13,\n",
    "            noise_level=10\n",
    "        ),\n",
    "        dict()\n",
    "    )\n",
    "    params=dict(\n",
    "        samplerate=30000,\n",
    "        spike_sign=1\n",
    "    )\n",
    "    with open(output_directory+'/params.json','w') as f:\n",
    "        json.dump(params,f)"
   ]
  },
  {
   "cell_type": "code",
   "execution_count": null,
   "metadata": {},
   "outputs": [],
   "source": [
    "P=mlp.initPipeline()"
   ]
  },
  {
   "cell_type": "code",
   "execution_count": null,
   "metadata": {},
   "outputs": [],
   "source": [
    "for dso in dsopts:\n",
    "    with P:\n",
    "        synthesize_dataset(dso,datasets_dir+'/'+dso['id'])"
   ]
  }
 ],
 "metadata": {
  "kernelspec": {
   "display_name": "Python 3",
   "language": "python",
   "name": "python3"
  },
  "language_info": {
   "codemirror_mode": {
    "name": "ipython",
    "version": 3
   },
   "file_extension": ".py",
   "mimetype": "text/x-python",
   "name": "python",
   "nbconvert_exporter": "python",
   "pygments_lexer": "ipython3",
   "version": "3.6.6"
  }
 },
 "nbformat": 4,
 "nbformat_minor": 2
}
