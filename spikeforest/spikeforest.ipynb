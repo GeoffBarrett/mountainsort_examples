{
 "cells": [
  {
   "cell_type": "code",
   "execution_count": 11,
   "metadata": {},
   "outputs": [
    {
     "name": "stdout",
     "output_type": "stream",
     "text": [
      "The autoreload extension is already loaded. To reload it, use:\n",
      "  %reload_ext autoreload\n"
     ]
    }
   ],
   "source": [
    "%load_ext autoreload\n",
    "%autoreload 2"
   ]
  },
  {
   "cell_type": "code",
   "execution_count": 12,
   "metadata": {},
   "outputs": [
    {
     "name": "stdout",
     "output_type": "stream",
     "text": [
      "Enter processing passcode for lari node fdb573a66f50\n"
     ]
    }
   ],
   "source": [
    "import os, getpass\n",
    "lari_id='fdb573a66f50' ## lari_ccblin008\n",
    "#lari_id='19b775bb238f' ## lari_g5ub\n",
    "#lari_id='133898b2b079' ## lari_jm\n",
    "#lari_id='cb48a51bf9e5' ## lari_dub\n",
    "#lari_id=''\n",
    "if lari_id:\n",
    "    print('Enter processing passcode for lari node {}'.format(lari_id))\n",
    "    lari_passcode=getpass.getpass()\n",
    "else:\n",
    "    lari_passcode=''\n",
    "os.environ['LARI_ID']=lari_id\n",
    "os.environ['LARI_PASSCODE']=lari_passcode"
   ]
  },
  {
   "cell_type": "code",
   "execution_count": 13,
   "metadata": {},
   "outputs": [],
   "source": [
    "import os\n",
    "import sys\n",
    "dir0 = os.path.split(os.getcwd())[0]\n",
    "if dir0 not in sys.path:\n",
    "    sys.path.append(dir0)"
   ]
  },
  {
   "cell_type": "code",
   "execution_count": 14,
   "metadata": {},
   "outputs": [],
   "source": [
    "from mountainsort4_v1 import sort_dataset as ms4_sort_dataset\n",
    "from summarize_sorting_results import summarize_sorting_results"
   ]
  },
  {
   "cell_type": "code",
   "execution_count": 15,
   "metadata": {},
   "outputs": [],
   "source": [
    "output_base_dir=os.getcwd()+'/output'\n",
    "#import shutil\n",
    "#if os.path.exists(output_base_dir):\n",
    "#    shutil.rmtree(output_base_dir)\n",
    "if not os.path.exists(output_base_dir):\n",
    "    os.mkdir(output_base_dir)"
   ]
  },
  {
   "cell_type": "code",
   "execution_count": 16,
   "metadata": {},
   "outputs": [],
   "source": [
    "datasets=[]\n",
    "datasets.append({\n",
    "    \"id\":\"synth_tetrode_30min\",\n",
    "    \"raw_path\":\"kbucket://b5ecdf1474c5/datasets/synth_datasets/datasets/synth_tetrode_30min\"\n",
    "});\n",
    "datasets.append({\n",
    "    \"id\":\"synth_tetrode_120min\",\n",
    "    \"raw_path\":\"kbucket://b5ecdf1474c5/datasets/synth_datasets/datasets/synth_tetrode_120min\"\n",
    "});\n",
    "#datasets.append({\n",
    "#    \"id\":\"synth_16ch_30min\",\n",
    "#    \"raw_path\":\"kbucket://b5ecdf1474c5/datasets/synth_datasets/datasets/synth_16ch_30min\"\n",
    "#});\n",
    "\n",
    "#datasets=[datasets[0]]"
   ]
  },
  {
   "cell_type": "code",
   "execution_count": 17,
   "metadata": {},
   "outputs": [],
   "source": [
    "verbose='minimal'\n",
    "\n",
    "def ms4_thr3(dataset_dir,output_dir):\n",
    "    ms4_sort_dataset(\n",
    "        dataset_dir=dataset_dir,\n",
    "        output_dir=output_dir,\n",
    "        adjacency_radius=-1,\n",
    "        detect_threshold=3,\n",
    "        opts={'verbose':verbose}\n",
    "    )\n",
    "    \n",
    "def ms4_thr4(dataset_dir,output_dir):\n",
    "    ms4_sort_dataset(\n",
    "        dataset_dir=dataset_dir,\n",
    "        output_dir=output_dir,\n",
    "        adjacency_radius=-1,\n",
    "        detect_threshold=4,\n",
    "        opts={'verbose':verbose}\n",
    "    )\n",
    "\n",
    "algs=[]\n",
    "algs.append({\n",
    "    \"name\":\"ms4_thr3\",\n",
    "    \"run\":ms4_thr3\n",
    "})\n",
    "algs.append({\n",
    "    \"name\":\"ms4_thr4\",\n",
    "    \"run\":ms4_thr4\n",
    "})"
   ]
  },
  {
   "cell_type": "code",
   "execution_count": 18,
   "metadata": {},
   "outputs": [],
   "source": [
    "runs=[]\n",
    "for i_ds in range(len(datasets)):\n",
    "    for i_alg in range(len(algs)):\n",
    "        runs.append({\"dataset\":datasets[i_ds],\"alg\":algs[i_alg]})\n",
    "runs=[runs[0]]"
   ]
  },
  {
   "cell_type": "code",
   "execution_count": 19,
   "metadata": {},
   "outputs": [],
   "source": [
    "def handle_run(run):\n",
    "    DS=run['dataset']\n",
    "    ALG=run['alg']\n",
    "    print(':::: Applying '+ALG['name']+' to '+DS['id'])\n",
    "    dsdir=DS['raw_path']\n",
    "    dsid=DS['id']\n",
    "    algname=ALG['name']\n",
    "    output_dir=output_base_dir+'/'+dsid+'--'+algname\n",
    "    ALG['run'](\n",
    "        dataset_dir=dsdir,\n",
    "        output_dir=output_dir\n",
    "    )\n",
    "    summarize_sorting_results(\n",
    "        sorting_output_dir=output_dir,\n",
    "        output_dir=output_dir+'/summary',\n",
    "        opts={'verbose':verbose}\n",
    "    )"
   ]
  },
  {
   "cell_type": "code",
   "execution_count": 20,
   "metadata": {},
   "outputs": [
    {
     "name": "stdout",
     "output_type": "stream",
     "text": [
      ":::: Applying ms4_thr3 to synth_tetrode_30min\n",
      "Running: ml-run-process ephys.bandpass_filter -i timeseries:kbucket://b5ecdf1474c5/datasets/synth_datasets/datasets/synth_tetrode_30min/raw.mda -o timeseries_out:/home/magland/src/mountainsort_examples/spikeforest/output/synth_tetrode_30min--ms4_thr3/filt.mda.prv -p freq_min:300 samplerate:30000 freq_max:6000 --verbose=minimal\n",
      "JOBS: pending:8 running:1 finished:0\n",
      "\u001b[31m{ error: 'Incorrect passcode.' }\u001b[0m\n",
      "\u001b[31mProcessor not found: ephys.bandpass_filter\u001b[0m\n"
     ]
    },
    {
     "ename": "Exception",
     "evalue": "Error running process ephys.bandpass_filter: Process returned with non-zero error code (255)",
     "output_type": "error",
     "traceback": [
      "\u001b[0;31m---------------------------------------------------------------------------\u001b[0m",
      "\u001b[0;31mException\u001b[0m                                 Traceback (most recent call last)",
      "\u001b[0;32m<ipython-input-20-7383e618b060>\u001b[0m in \u001b[0;36m<module>\u001b[0;34m()\u001b[0m\n\u001b[1;32m      3\u001b[0m \u001b[0;32mfor\u001b[0m \u001b[0mi\u001b[0m \u001b[0;32min\u001b[0m \u001b[0mrange\u001b[0m\u001b[0;34m(\u001b[0m\u001b[0mlen\u001b[0m\u001b[0;34m(\u001b[0m\u001b[0mruns\u001b[0m\u001b[0;34m)\u001b[0m\u001b[0;34m)\u001b[0m\u001b[0;34m:\u001b[0m\u001b[0;34m\u001b[0m\u001b[0m\n\u001b[1;32m      4\u001b[0m     \u001b[0mhandle_run\u001b[0m\u001b[0;34m(\u001b[0m\u001b[0mruns\u001b[0m\u001b[0;34m[\u001b[0m\u001b[0mi\u001b[0m\u001b[0;34m]\u001b[0m\u001b[0;34m)\u001b[0m\u001b[0;34m\u001b[0m\u001b[0m\n\u001b[0;32m----> 5\u001b[0;31m \u001b[0mmlp\u001b[0m\u001b[0;34m.\u001b[0m\u001b[0mrunPipeline\u001b[0m\u001b[0;34m(\u001b[0m\u001b[0;34m)\u001b[0m\u001b[0;34m\u001b[0m\u001b[0m\n\u001b[0m",
      "\u001b[0;32m~/main-env/lib/python3.5/site-packages/mountainlab_pytools/mlproc/mlproc_impl.py\u001b[0m in \u001b[0;36mrunPipeline\u001b[0;34m()\u001b[0m\n\u001b[1;32m     16\u001b[0m \u001b[0;34m\u001b[0m\u001b[0m\n\u001b[1;32m     17\u001b[0m \u001b[0;32mdef\u001b[0m \u001b[0mrunPipeline\u001b[0m\u001b[0;34m(\u001b[0m\u001b[0;34m)\u001b[0m\u001b[0;34m:\u001b[0m\u001b[0;34m\u001b[0m\u001b[0m\n\u001b[0;32m---> 18\u001b[0;31m     \u001b[0mglobal_client\u001b[0m\u001b[0;34m.\u001b[0m\u001b[0mrun\u001b[0m\u001b[0;34m(\u001b[0m\u001b[0;34m)\u001b[0m\u001b[0;34m\u001b[0m\u001b[0m\n\u001b[0m\u001b[1;32m     19\u001b[0m \u001b[0;34m\u001b[0m\u001b[0m\n\u001b[1;32m     20\u001b[0m \u001b[0;32mclass\u001b[0m \u001b[0m_MLProcessorPIO\u001b[0m\u001b[0;34m:\u001b[0m \u001b[0;31m#parameter, input, or output\u001b[0m\u001b[0;34m\u001b[0m\u001b[0m\n",
      "\u001b[0;32m~/main-env/lib/python3.5/site-packages/mountainlab_pytools/mlproc/mlclient.py\u001b[0m in \u001b[0;36mrun\u001b[0;34m(self)\u001b[0m\n\u001b[1;32m    102\u001b[0m             \u001b[0mself\u001b[0m\u001b[0;34m.\u001b[0m\u001b[0mstop_all_processes\u001b[0m\u001b[0;34m(\u001b[0m\u001b[0;34m)\u001b[0m\u001b[0;34m\u001b[0m\u001b[0m\n\u001b[1;32m    103\u001b[0m             \u001b[0mself\u001b[0m\u001b[0;34m.\u001b[0m\u001b[0mcleanup\u001b[0m\u001b[0;34m(\u001b[0m\u001b[0;34m)\u001b[0m\u001b[0;34m\u001b[0m\u001b[0m\n\u001b[0;32m--> 104\u001b[0;31m             \u001b[0;32mraise\u001b[0m \u001b[0me\u001b[0m\u001b[0;34m\u001b[0m\u001b[0m\n\u001b[0m\u001b[1;32m    105\u001b[0m \u001b[0;34m\u001b[0m\u001b[0m\n\u001b[1;32m    106\u001b[0m     \u001b[0;32mdef\u001b[0m \u001b[0mcleanup\u001b[0m\u001b[0;34m(\u001b[0m\u001b[0mself\u001b[0m\u001b[0;34m)\u001b[0m\u001b[0;34m:\u001b[0m\u001b[0;34m\u001b[0m\u001b[0m\n",
      "\u001b[0;32m~/main-env/lib/python3.5/site-packages/mountainlab_pytools/mlproc/mlclient.py\u001b[0m in \u001b[0;36mrun\u001b[0;34m(self)\u001b[0m\n\u001b[1;32m     71\u001b[0m                         \u001b[0mnum_running\u001b[0m\u001b[0;34m=\u001b[0m\u001b[0mnum_running\u001b[0m\u001b[0;34m+\u001b[0m\u001b[0;36m1\u001b[0m\u001b[0;34m\u001b[0m\u001b[0m\n\u001b[1;32m     72\u001b[0m                     \u001b[0;32melif\u001b[0m \u001b[0mjob\u001b[0m\u001b[0;34m[\u001b[0m\u001b[0;34m'status'\u001b[0m\u001b[0;34m]\u001b[0m \u001b[0;34m==\u001b[0m \u001b[0;34m'error'\u001b[0m\u001b[0;34m:\u001b[0m\u001b[0;34m\u001b[0m\u001b[0m\n\u001b[0;32m---> 73\u001b[0;31m                         \u001b[0;32mraise\u001b[0m \u001b[0mException\u001b[0m\u001b[0;34m(\u001b[0m\u001b[0;34m'Error running process {}: {}'\u001b[0m\u001b[0;34m.\u001b[0m\u001b[0mformat\u001b[0m\u001b[0;34m(\u001b[0m\u001b[0mjob\u001b[0m\u001b[0;34m[\u001b[0m\u001b[0;34m'processor_name'\u001b[0m\u001b[0;34m]\u001b[0m\u001b[0;34m,\u001b[0m\u001b[0mjob\u001b[0m\u001b[0;34m[\u001b[0m\u001b[0;34m'error'\u001b[0m\u001b[0;34m]\u001b[0m\u001b[0;34m)\u001b[0m\u001b[0;34m)\u001b[0m\u001b[0;34m\u001b[0m\u001b[0m\n\u001b[0m\u001b[1;32m     74\u001b[0m                     \u001b[0;32melif\u001b[0m \u001b[0mjob\u001b[0m\u001b[0;34m[\u001b[0m\u001b[0;34m'status'\u001b[0m\u001b[0;34m]\u001b[0m \u001b[0;34m==\u001b[0m \u001b[0;34m'finished'\u001b[0m\u001b[0;34m:\u001b[0m\u001b[0;34m\u001b[0m\u001b[0m\n\u001b[1;32m     75\u001b[0m                         \u001b[0mnum_finished\u001b[0m\u001b[0;34m=\u001b[0m\u001b[0mnum_finished\u001b[0m\u001b[0;34m+\u001b[0m\u001b[0;36m1\u001b[0m\u001b[0;34m\u001b[0m\u001b[0m\n",
      "\u001b[0;31mException\u001b[0m: Error running process ephys.bandpass_filter: Process returned with non-zero error code (255)"
     ]
    }
   ],
   "source": [
    "from mountainlab_pytools import mlproc as mlp\n",
    "mlp.initPipeline()\n",
    "for i in range(len(runs)):\n",
    "    handle_run(runs[i])\n",
    "mlp.runPipeline()"
   ]
  },
  {
   "cell_type": "code",
   "execution_count": 11,
   "metadata": {},
   "outputs": [
    {
     "data": {
      "text/plain": [
       "list"
      ]
     },
     "execution_count": 11,
     "metadata": {},
     "output_type": "execute_result"
    }
   ],
   "source": [
    "type([1,2,3])"
   ]
  },
  {
   "cell_type": "code",
   "execution_count": 15,
   "metadata": {},
   "outputs": [
    {
     "data": {
      "text/plain": [
       "0"
      ]
     },
     "execution_count": 15,
     "metadata": {},
     "output_type": "execute_result"
    }
   ],
   "source": [
    "os.system('ml-run-process ephys.compute_templates -i firings:/home/magland/src/mountainsort_examples/spikeforest/output/synth_tetrode_30min--ms4_thr3/firings.mda timeseries:/home/magland/src/mountainsort_examples/spikeforest/output/synth_tetrode_30min--ms4_thr3/filt.mda -o templates_out:/home/magland/src/mountainsort_examples/spikeforest/output/synth_tetrode_30min--ms4_thr3/summary/templates_filt.mda -p ')"
   ]
  },
  {
   "cell_type": "code",
   "execution_count": null,
   "metadata": {},
   "outputs": [],
   "source": [
    "os.system('ml-spec ')"
   ]
  }
 ],
 "metadata": {
  "kernelspec": {
   "display_name": "Python 3",
   "language": "python",
   "name": "python3"
  },
  "language_info": {
   "codemirror_mode": {
    "name": "ipython",
    "version": 3
   },
   "file_extension": ".py",
   "mimetype": "text/x-python",
   "name": "python",
   "nbconvert_exporter": "python",
   "pygments_lexer": "ipython3",
   "version": "3.5.2"
  }
 },
 "nbformat": 4,
 "nbformat_minor": 2
}
