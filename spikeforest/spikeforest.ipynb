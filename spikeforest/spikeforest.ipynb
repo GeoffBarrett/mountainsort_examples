{
 "cells": [
  {
   "cell_type": "code",
   "execution_count": 1,
   "metadata": {},
   "outputs": [],
   "source": [
    "#######################################\n",
    "# Auto-reload development imports\n",
    "#######################################\n",
    "\n",
    "%load_ext autoreload\n",
    "%autoreload 2"
   ]
  },
  {
   "cell_type": "code",
   "execution_count": 2,
   "metadata": {},
   "outputs": [],
   "source": [
    "#######################################\n",
    "#imports\n",
    "#######################################\n",
    "\n",
    "import os, sys\n",
    "dir0 = os.path.split(os.getcwd())[0]\n",
    "if dir0 not in sys.path:\n",
    "    sys.path.append(dir0)\n",
    "import mlproc_dev as mlp"
   ]
  },
  {
   "cell_type": "code",
   "execution_count": 3,
   "metadata": {},
   "outputs": [
    {
     "name": "stdout",
     "output_type": "stream",
     "text": [
      "Enter processing passcode for lari node cb48a51bf9e5\n"
     ]
    }
   ],
   "source": [
    "#######################################\n",
    "# LARI login\n",
    "#######################################\n",
    "\n",
    "#lari_id='fdb573a66f50' ## lari_ccblin008\n",
    "#lari_id='19b775bb238f' ## lari_g5ub\n",
    "#lari_id='133898b2b079' ## lari_jm\n",
    "lari_id='cb48a51bf9e5'\n",
    "#lari_id=''\n",
    "\n",
    "mlp.lariLogin(lari_id,lari_passcode=None)"
   ]
  },
  {
   "cell_type": "code",
   "execution_count": 54,
   "metadata": {},
   "outputs": [],
   "source": [
    "#######################################\n",
    "# Import sorting pipelines\n",
    "#######################################\n",
    "\n",
    "from mountainsort4_v1_dev import sort_dataset as ms4_sort_dataset\n",
    "from summarize_sorting_results_dev import summarize_sorting_results\n",
    "from validate_sorting_results import validate_sorting_results"
   ]
  },
  {
   "cell_type": "code",
   "execution_count": 55,
   "metadata": {},
   "outputs": [
    {
     "name": "stdout",
     "output_type": "stream",
     "text": [
      "Directory already exists: /home/magland/src/mountainsort_examples/spikeforest/output\n"
     ]
    }
   ],
   "source": [
    "#######################################\n",
    "# Create output directory\n",
    "#######################################\n",
    "\n",
    "output_base_dir=os.getcwd()+'/output'\n",
    "#import shutil\n",
    "#if os.path.exists(output_base_dir):\n",
    "#    shutil.rmtree(output_base_dir)\n",
    "if not os.path.exists(output_base_dir):\n",
    "    print('Creating directory: {}'.format(output_base_dir))\n",
    "    os.mkdir(output_base_dir)\n",
    "else:\n",
    "    print('Directory already exists: {}'.format(output_base_dir))"
   ]
  },
  {
   "cell_type": "code",
   "execution_count": 56,
   "metadata": {},
   "outputs": [
    {
     "name": "stdout",
     "output_type": "stream",
     "text": [
      "Number of datasets: 1\n"
     ]
    }
   ],
   "source": [
    "#######################################\n",
    "# Set up datasets\n",
    "#######################################\n",
    "\n",
    "datasets=[]\n",
    "datasets.append({\n",
    "    \"id\":\"synth_tetrode_30min\",\n",
    "    \"raw_path\":\"kbucket://b5ecdf1474c5/datasets/synth_datasets/datasets/synth_tetrode_30min\"\n",
    "});\n",
    "datasets.append({\n",
    "    \"id\":\"synth_tetrode_120min\",\n",
    "    \"raw_path\":\"kbucket://b5ecdf1474c5/datasets/synth_datasets/datasets/synth_tetrode_120min\"\n",
    "});\n",
    "#datasets.append({\n",
    "#    \"id\":\"synth_16ch_30min\",\n",
    "#    \"raw_path\":\"kbucket://b5ecdf1474c5/datasets/synth_datasets/datasets/synth_16ch_30min\"\n",
    "#});\n",
    "\n",
    "datasets=[datasets[0]]\n",
    "\n",
    "print('Number of datasets: {}'.format(len(datasets)))"
   ]
  },
  {
   "cell_type": "code",
   "execution_count": 57,
   "metadata": {},
   "outputs": [],
   "source": [
    "import json\n",
    "def read_dataset_params(dsdir):\n",
    "    params_fname=mlp.realizeFile(dsdir+'/params.json')\n",
    "    if not os.path.exists(params_fname):\n",
    "        raise Exception('Dataset parameter file does not exist: '+params_fname)\n",
    "    with open(params_fname) as f:\n",
    "        return json.load(f)\n",
    "\n",
    "def ironclust_sort_dataset(dataset_dir,output_dir):\n",
    "    if not os.path.exists(output_dir):\n",
    "        os.mkdir(output_dir)\n",
    "        \n",
    "    # Dataset parameters\n",
    "    ds_params=read_dataset_params(dataset_dir)\n",
    "    \n",
    "    detect_sign=1\n",
    "    if 'spike_sign' in ds_params:\n",
    "        detect_sign=ds_params['spike_sign']\n",
    "    if 'detect_sign' in ds_params:\n",
    "        detect_sign=ds_params['detect_sign']\n",
    "    \n",
    "    mlp.addProcess(\n",
    "        'ironclust.sort',\n",
    "        {\n",
    "            'timeseries':dataset_dir+'/raw.mda',\n",
    "            'geom':dataset_dir+'/geom.csv',\n",
    "        },{\n",
    "            'firings_out':output_dir+'/firings.mda'\n",
    "        },\n",
    "        {\n",
    "            'samplerate':ds_params['samplerate'],\n",
    "            'detect_sign':detect_sign\n",
    "            #'should_cause_error':123\n",
    "        },\n",
    "        {\n",
    "        }\n",
    "    )"
   ]
  },
  {
   "cell_type": "code",
   "execution_count": 58,
   "metadata": {},
   "outputs": [
    {
     "name": "stdout",
     "output_type": "stream",
     "text": [
      "Number of algorithms: 2\n"
     ]
    }
   ],
   "source": [
    "#######################################\n",
    "# Set up algorithms\n",
    "#######################################\n",
    "\n",
    "verbose=''\n",
    "\n",
    "def ms4_thr3(dataset_dir,output_dir):\n",
    "    ms4_sort_dataset(\n",
    "        dataset_dir=dataset_dir,\n",
    "        output_dir=output_dir,\n",
    "        adjacency_radius=-1,\n",
    "        detect_threshold=3,\n",
    "        opts={'verbose':verbose}\n",
    "    )\n",
    "    \n",
    "def ms4_thr4(dataset_dir,output_dir):\n",
    "    ms4_sort_dataset(\n",
    "        dataset_dir=dataset_dir,\n",
    "        output_dir=output_dir,\n",
    "        adjacency_radius=-1,\n",
    "        detect_threshold=4,\n",
    "        opts={'verbose':verbose}\n",
    "    )\n",
    "    \n",
    "def ironclust(dataset_dir,output_dir):\n",
    "    ironclust_sort_dataset(\n",
    "        dataset_dir=dataset_dir,\n",
    "        output_dir=output_dir\n",
    "    )\n",
    "\n",
    "algs=[]\n",
    "algs.append({\n",
    "    \"name\":\"ms4_thr3\",\n",
    "    \"run\":ms4_thr3\n",
    "})\n",
    "algs.append({\n",
    "    \"name\":\"ms4_thr4\",\n",
    "    \"run\":ms4_thr4\n",
    "})\n",
    "algs.append({\n",
    "    \"name\":\"ironclust\",\n",
    "    \"run\":ironclust\n",
    "})\n",
    "#algs=[algs[2]]\n",
    "#algs=[algs[0],algs[1]]\n",
    "algs=[algs[0],algs[2]]\n",
    "\n",
    "print('Number of algorithms: {}'.format(len(algs)))"
   ]
  },
  {
   "cell_type": "code",
   "execution_count": 59,
   "metadata": {},
   "outputs": [
    {
     "name": "stdout",
     "output_type": "stream",
     "text": [
      "Number of runs: 2\n"
     ]
    }
   ],
   "source": [
    "#######################################\n",
    "# Collect runs (algorithm/dataset pairs)\n",
    "#######################################\n",
    "\n",
    "runs=[]\n",
    "for i_ds in range(len(datasets)):\n",
    "    for i_alg in range(len(algs)):\n",
    "        runs.append({\"dataset\":datasets[i_ds],\"alg\":algs[i_alg]})\n",
    "#runs=[runs[0]]\n",
    "\n",
    "print('Number of runs: {}'.format(len(runs)))"
   ]
  },
  {
   "cell_type": "code",
   "execution_count": 60,
   "metadata": {},
   "outputs": [],
   "source": [
    "#######################################\n",
    "# Define the pipeline for the run\n",
    "#######################################\n",
    "\n",
    "def handle_run(run):\n",
    "    DS=run['dataset']\n",
    "    ALG=run['alg']\n",
    "    print(':::: Applying '+ALG['name']+' to '+DS['id'])\n",
    "    dsdir=DS['raw_path']\n",
    "    dsid=DS['id']\n",
    "    algname=ALG['name']\n",
    "    output_dir=output_base_dir+'/'+dsid+'--'+algname\n",
    "    ALG['run'](\n",
    "        dataset_dir=dsdir,\n",
    "        output_dir=output_dir\n",
    "    )\n",
    "    summarize_sorting_results(\n",
    "        dataset_dir=dsdir,\n",
    "        sorting_output_dir=output_dir,\n",
    "        output_dir=output_dir+'/summary',\n",
    "        opts={'verbose':verbose}\n",
    "    )\n",
    "    validate_sorting_results(\n",
    "        dataset_dir=dsdir,\n",
    "        sorting_output_dir=output_dir,\n",
    "        output_dir=output_dir+'/validation',\n",
    "        opts={'verbose':verbose}\n",
    "    )"
   ]
  },
  {
   "cell_type": "code",
   "execution_count": 61,
   "metadata": {},
   "outputs": [
    {
     "name": "stdout",
     "output_type": "stream",
     "text": [
      ":::: Applying ms4_thr3 to synth_tetrode_30min\n"
     ]
    },
    {
     "data": {
      "application/vnd.jupyter.widget-view+json": {
       "model_id": "051831c2b5fe49c6a1f4b5c35dc378e8",
       "version_major": 2,
       "version_minor": 0
      },
      "text/plain": [
       "Output()"
      ]
     },
     "metadata": {},
     "output_type": "display_data"
    },
    {
     "data": {
      "application/vnd.jupyter.widget-view+json": {
       "model_id": "d31ba31cb3704a5ba089d2a32395c4f8",
       "version_major": 2,
       "version_minor": 0
      },
      "text/plain": [
       "Output()"
      ]
     },
     "metadata": {},
     "output_type": "display_data"
    },
    {
     "data": {
      "application/vnd.jupyter.widget-view+json": {
       "model_id": "ba2df66296c746c0b61f0ba51f9da96d",
       "version_major": 2,
       "version_minor": 0
      },
      "text/plain": [
       "Output()"
      ]
     },
     "metadata": {},
     "output_type": "display_data"
    },
    {
     "data": {
      "application/vnd.jupyter.widget-view+json": {
       "model_id": "8845ae86cc4247719e560f03108d4db8",
       "version_major": 2,
       "version_minor": 0
      },
      "text/plain": [
       "Output()"
      ]
     },
     "metadata": {},
     "output_type": "display_data"
    },
    {
     "data": {
      "application/vnd.jupyter.widget-view+json": {
       "model_id": "c06d431e72394c2497ccf40a5358d5b7",
       "version_major": 2,
       "version_minor": 0
      },
      "text/plain": [
       "Output()"
      ]
     },
     "metadata": {},
     "output_type": "display_data"
    },
    {
     "data": {
      "application/vnd.jupyter.widget-view+json": {
       "model_id": "a40573aa70d24a45ac286b4ff2a82f6a",
       "version_major": 2,
       "version_minor": 0
      },
      "text/plain": [
       "Output()"
      ]
     },
     "metadata": {},
     "output_type": "display_data"
    },
    {
     "data": {
      "application/vnd.jupyter.widget-view+json": {
       "model_id": "c49883a1523f4d9687d55e0311c0c3cc",
       "version_major": 2,
       "version_minor": 0
      },
      "text/plain": [
       "Output()"
      ]
     },
     "metadata": {},
     "output_type": "display_data"
    },
    {
     "data": {
      "application/vnd.jupyter.widget-view+json": {
       "model_id": "d0a3c614340d421e89b0a3a2ef9a8393",
       "version_major": 2,
       "version_minor": 0
      },
      "text/plain": [
       "Output()"
      ]
     },
     "metadata": {},
     "output_type": "display_data"
    },
    {
     "data": {
      "application/vnd.jupyter.widget-view+json": {
       "model_id": "61a0628f7dd042febbb91b4819dcda91",
       "version_major": 2,
       "version_minor": 0
      },
      "text/plain": [
       "Output()"
      ]
     },
     "metadata": {},
     "output_type": "display_data"
    },
    {
     "data": {
      "application/vnd.jupyter.widget-view+json": {
       "model_id": "cd3a30bbcc70441d9c48acad1cdd5f0e",
       "version_major": 2,
       "version_minor": 0
      },
      "text/plain": [
       "Output()"
      ]
     },
     "metadata": {},
     "output_type": "display_data"
    },
    {
     "name": "stdout",
     "output_type": "stream",
     "text": [
      ":::: Applying ironclust to synth_tetrode_30min\n"
     ]
    },
    {
     "data": {
      "application/vnd.jupyter.widget-view+json": {
       "model_id": "2f9d9470b275426f874a856a9c931a36",
       "version_major": 2,
       "version_minor": 0
      },
      "text/plain": [
       "Output()"
      ]
     },
     "metadata": {},
     "output_type": "display_data"
    },
    {
     "data": {
      "application/vnd.jupyter.widget-view+json": {
       "model_id": "60d3048d35684217af78b27841cb0d1d",
       "version_major": 2,
       "version_minor": 0
      },
      "text/plain": [
       "Output()"
      ]
     },
     "metadata": {},
     "output_type": "display_data"
    },
    {
     "data": {
      "application/vnd.jupyter.widget-view+json": {
       "model_id": "4e584ca72d6c4822984d582c8d96e22a",
       "version_major": 2,
       "version_minor": 0
      },
      "text/plain": [
       "Output()"
      ]
     },
     "metadata": {},
     "output_type": "display_data"
    },
    {
     "name": "stdout",
     "output_type": "stream",
     "text": [
      "Running pipeline...\n",
      "Running: ml-run-process ephys.bandpass_filter -i timeseries:kbucket://b5ecdf1474c5/datasets/synth_datasets/datasets/synth_tetrode_30min/raw.mda -o timeseries_out:/home/magland/src/mountainsort_examples/spikeforest/output/synth_tetrode_30min--ms4_thr3/filt.mda.prv -p freq_max:6000 samplerate:30000 freq_min:300 --lari_out=tmp.ephys.bandpass_filter.lari_out.5As3J69iMe.json --verbose=\n",
      "Running: ml-run-process ironclust.sort -i geom:kbucket://b5ecdf1474c5/datasets/synth_datasets/datasets/synth_tetrode_30min/geom.csv timeseries:kbucket://b5ecdf1474c5/datasets/synth_datasets/datasets/synth_tetrode_30min/raw.mda -o firings_out:/home/magland/src/mountainsort_examples/spikeforest/output/synth_tetrode_30min--ironclust/firings.mda -p detect_sign:1 samplerate:30000 --lari_out=tmp.ironclust.sort.lari_out.kCRIlMAEsq.json\n",
      "JOBS: pending:11 running:2 finished:0\n",
      "Running: ml-run-process ephys.whiten -i timeseries:/home/magland/src/mountainsort_examples/spikeforest/output/synth_tetrode_30min--ms4_thr3/filt.mda.prv -o timeseries_out:/home/magland/src/mountainsort_examples/spikeforest/output/synth_tetrode_30min--ms4_thr3/pre.mda.prv -p  --lari_out=tmp.ephys.whiten.lari_out.LWz47km65g.json --verbose=\n",
      "Running: ml-run-process ephys.compute_templates -i firings:/home/magland/src/mountainsort_examples/spikeforest/output/synth_tetrode_30min--ironclust/firings.mda timeseries:kbucket://b5ecdf1474c5/datasets/synth_datasets/datasets/synth_tetrode_30min/raw.mda -o templates_out:/home/magland/src/mountainsort_examples/spikeforest/output/synth_tetrode_30min--ironclust/summary/templates.mda -p  --lari_out=tmp.ephys.compute_templates.lari_out.GKF6sopft9.json\n",
      "Running: ml-run-process ephys.compare_ground_truth -i firings:/home/magland/src/mountainsort_examples/spikeforest/output/synth_tetrode_30min--ironclust/firings.mda firings_true:kbucket://b5ecdf1474c5/datasets/synth_datasets/datasets/synth_tetrode_30min/firings_true.mda -o json_out:/home/magland/src/mountainsort_examples/spikeforest/output/synth_tetrode_30min--ironclust/validation/compare_ground_truth.json -p  --lari_out=tmp.ephys.compare_ground_truth.lari_out.q5T5k16CVK.json\n",
      "JOBS: pending:8 running:3 finished:2\n",
      "Running: ml-run-process ms4alg.sort -i geom:kbucket://b5ecdf1474c5/datasets/synth_datasets/datasets/synth_tetrode_30min/geom.csv timeseries:/home/magland/src/mountainsort_examples/spikeforest/output/synth_tetrode_30min--ms4_thr3/pre.mda.prv -o firings_out:/home/magland/src/mountainsort_examples/spikeforest/output/synth_tetrode_30min--ms4_thr3/firings_uncurated.mda -p detect_sign:1 detect_threshold:3 adjacency_radius:-1 --lari_out=tmp.ms4alg.sort.lari_out.N45mPLooqu.json --verbose=\n",
      "JOBS: pending:7 running:3 finished:3\n",
      "Running: ml-run-process ms3.cluster_metrics -i firings:/home/magland/src/mountainsort_examples/spikeforest/output/synth_tetrode_30min--ms4_thr3/firings_uncurated.mda timeseries:/home/magland/src/mountainsort_examples/spikeforest/output/synth_tetrode_30min--ms4_thr3/pre.mda.prv -o cluster_metrics_out:tmp.ms3.cluster_metrics.cluster_metrics_out.lBuPL1V7Sk.prv -p samplerate:30000 --lari_out=tmp.ms3.cluster_metrics.lari_out.NOO0GgL5Yo.json --verbose=\n",
      "Running: ml-run-process ms3.isolation_metrics -i firings:/home/magland/src/mountainsort_examples/spikeforest/output/synth_tetrode_30min--ms4_thr3/firings_uncurated.mda timeseries:/home/magland/src/mountainsort_examples/spikeforest/output/synth_tetrode_30min--ms4_thr3/pre.mda.prv -o metrics_out:tmp.ms3.isolation_metrics.metrics_out.7lPpOxn3E6.prv -p compute_bursting_parents:true --lari_out=tmp.ms3.isolation_metrics.lari_out.9n1BdeSXBq.json --verbose=\n",
      "JOBS: pending:5 running:4 finished:4\n",
      "Running: ml-run-process ms3.combine_cluster_metrics -i metrics_list:tmp.ms3.cluster_metrics.cluster_metrics_out.lBuPL1V7Sk.prv metrics_list:tmp.ms3.isolation_metrics.metrics_out.7lPpOxn3E6.prv -o metrics_out:/home/magland/src/mountainsort_examples/spikeforest/output/synth_tetrode_30min--ms4_thr3/cluster_metrics.json -p  --lari_out=tmp.ms3.combine_cluster_metrics.lari_out.wSInqO6h7y.json --verbose=\n",
      "JOBS: pending:4 running:2 finished:7\n",
      "Running: ml-run-process ms4alg.create_label_map -i metrics:/home/magland/src/mountainsort_examples/spikeforest/output/synth_tetrode_30min--ms4_thr3/cluster_metrics.json -o label_map_out:tmp.ms4alg.create_label_map.label_map_out.hXYBGYLEWe.prv -p  --lari_out=tmp.ms4alg.create_label_map.lari_out.BCNXLcu6V4.json --verbose=\n",
      "JOBS: pending:3 running:2 finished:8\n",
      "Running: ml-run-process ms4alg.apply_label_map -i label_map:tmp.ms4alg.create_label_map.label_map_out.hXYBGYLEWe.prv firings:/home/magland/src/mountainsort_examples/spikeforest/output/synth_tetrode_30min--ms4_thr3/firings_uncurated.mda -o firings_out:/home/magland/src/mountainsort_examples/spikeforest/output/synth_tetrode_30min--ms4_thr3/firings.mda -p  --lari_out=tmp.ms4alg.apply_label_map.lari_out.OdMZ38zRyO.json --verbose=\n",
      "JOBS: pending:2 running:2 finished:9\n",
      "Running: ml-run-process ephys.compute_templates -i firings:/home/magland/src/mountainsort_examples/spikeforest/output/synth_tetrode_30min--ms4_thr3/firings.mda timeseries:kbucket://b5ecdf1474c5/datasets/synth_datasets/datasets/synth_tetrode_30min/raw.mda -o templates_out:/home/magland/src/mountainsort_examples/spikeforest/output/synth_tetrode_30min--ms4_thr3/summary/templates.mda -p  --lari_out=tmp.ephys.compute_templates.lari_out.xsIUqHgcKw.json\n",
      "Running: ml-run-process ephys.compare_ground_truth -i firings:/home/magland/src/mountainsort_examples/spikeforest/output/synth_tetrode_30min--ms4_thr3/firings.mda firings_true:kbucket://b5ecdf1474c5/datasets/synth_datasets/datasets/synth_tetrode_30min/firings_true.mda -o json_out:/home/magland/src/mountainsort_examples/spikeforest/output/synth_tetrode_30min--ms4_thr3/validation/compare_ground_truth.json -p  --lari_out=tmp.ephys.compare_ground_truth.lari_out.OcQQ5xWysy.json\n",
      "JOBS: pending:0 running:3 finished:10\n",
      "JOBS: pending:0 running:2 finished:11\n",
      "JOBS: pending:0 running:1 finished:12\n",
      "JOBS: pending:0 running:0 finished:13\n",
      "Finished pipeline.\n"
     ]
    }
   ],
   "source": [
    "#######################################\n",
    "# RUN THE PIPELINE\n",
    "#######################################\n",
    "\n",
    "mlp.initPipeline()\n",
    "for run in runs:\n",
    "    handle_run(run)\n",
    "mlp.runPipeline()"
   ]
  },
  {
   "cell_type": "code",
   "execution_count": 63,
   "metadata": {},
   "outputs": [
    {
     "data": {
      "application/vdom.v1+json": {
       "attributes": {},
       "children": "ms4_thr3 : synth_tetrode_30min",
       "tagName": "h3"
      },
      "text/plain": [
       "<h3 />"
      ]
     },
     "metadata": {},
     "output_type": "display_data"
    },
    {
     "data": {
      "application/vdom.v1+json": {
       "attributes": {
        "href": "https://ephys-viz.herokuapp.com/?view=dataset&dataset=kbucket://b5ecdf1474c5/datasets/synth_datasets/datasets/synth_tetrode_30min",
        "target": "_blank"
       },
       "children": "Dataset",
       "tagName": "a"
      },
      "text/plain": [
       "<a />"
      ]
     },
     "metadata": {},
     "output_type": "display_data"
    },
    {
     "data": {
      "application/vdom.v1+json": {
       "attributes": {
        "href": "https://ephys-viz.herokuapp.com/?view=dataset&dataset=kbucket://b5ecdf1474c5/datasets/synth_datasets/datasets/synth_tetrode_30min&firings=sha1://7fe0b69099b8b518998d4d4af1234e2fdaa734ef",
        "target": "_blank"
       },
       "children": "Sorting result",
       "tagName": "a"
      },
      "text/plain": [
       "<a />"
      ]
     },
     "metadata": {},
     "output_type": "display_data"
    },
    {
     "data": {
      "application/vdom.v1+json": {
       "attributes": {
        "href": "https://ephys-viz.herokuapp.com/?view=templates&templates=sha1://894e22d8fc3448a6256527c34538242ec7d70d8d",
        "target": "_blank"
       },
       "children": "Templates",
       "tagName": "a"
      },
      "text/plain": [
       "<a />"
      ]
     },
     "metadata": {},
     "output_type": "display_data"
    },
    {
     "data": {
      "application/vdom.v1+json": {
       "attributes": {
        "href": "https://ephys-viz.herokuapp.com/?view=sort_comparison&comparison=sha1://bbfba3aa9379b0bf985abcb1399b514444c9a497",
        "target": "_blank"
       },
       "children": "Comparison with ground truth",
       "tagName": "a"
      },
      "text/plain": [
       "<a />"
      ]
     },
     "metadata": {},
     "output_type": "display_data"
    },
    {
     "data": {
      "application/vdom.v1+json": {
       "attributes": {},
       "children": "ironclust : synth_tetrode_30min",
       "tagName": "h3"
      },
      "text/plain": [
       "<h3 />"
      ]
     },
     "metadata": {},
     "output_type": "display_data"
    },
    {
     "data": {
      "application/vdom.v1+json": {
       "attributes": {
        "href": "https://ephys-viz.herokuapp.com/?view=dataset&dataset=kbucket://b5ecdf1474c5/datasets/synth_datasets/datasets/synth_tetrode_30min",
        "target": "_blank"
       },
       "children": "Dataset",
       "tagName": "a"
      },
      "text/plain": [
       "<a />"
      ]
     },
     "metadata": {},
     "output_type": "display_data"
    },
    {
     "data": {
      "application/vdom.v1+json": {
       "attributes": {
        "href": "https://ephys-viz.herokuapp.com/?view=dataset&dataset=kbucket://b5ecdf1474c5/datasets/synth_datasets/datasets/synth_tetrode_30min&firings=sha1://6bc44359842b3d305aa1e0825c4a83cfe998d6fd",
        "target": "_blank"
       },
       "children": "Sorting result",
       "tagName": "a"
      },
      "text/plain": [
       "<a />"
      ]
     },
     "metadata": {},
     "output_type": "display_data"
    },
    {
     "data": {
      "application/vdom.v1+json": {
       "attributes": {
        "href": "https://ephys-viz.herokuapp.com/?view=templates&templates=sha1://c712e93f31455cb1cf2f8d381c4bdfa91367d026",
        "target": "_blank"
       },
       "children": "Templates",
       "tagName": "a"
      },
      "text/plain": [
       "<a />"
      ]
     },
     "metadata": {},
     "output_type": "display_data"
    },
    {
     "data": {
      "application/vdom.v1+json": {
       "attributes": {
        "href": "https://ephys-viz.herokuapp.com/?view=sort_comparison&comparison=sha1://7e7ca9165691eb100fcd4991fd39c0311c901774",
        "target": "_blank"
       },
       "children": "Comparison with ground truth",
       "tagName": "a"
      },
      "text/plain": [
       "<a />"
      ]
     },
     "metadata": {},
     "output_type": "display_data"
    }
   ],
   "source": [
    "import vdom\n",
    "\n",
    "import json\n",
    "import subprocess\n",
    "def loadPrvObject(fname):\n",
    "    if not os.path.isfile(fname):\n",
    "        if not fname.endswith('.prv'):\n",
    "            if os.path.isfile(fname+'.prv'):\n",
    "                fname=fname+'.prv'\n",
    "            else:\n",
    "                raise Exception('File not found: {}'.format(fname))\n",
    "        else:\n",
    "            raise Exception('File not found: {}'.format(fname))\n",
    "    if fname.endswith('.prv'):\n",
    "        with open(fname) as f:\n",
    "             return json.load(f)\n",
    "    else:\n",
    "        str=subprocess.check_output(['ml-prv-stat', fname]).decode('utf-8').strip()\n",
    "        return json.loads(str)\n",
    "\n",
    "def kbpath(fname):\n",
    "    obj=loadPrvObject(fname)\n",
    "    return 'sha1://'+obj['original_checksum']\n",
    "    \n",
    "def show_result(run):\n",
    "    DS=run['dataset']\n",
    "    ALG=run['alg']\n",
    "    run_title=ALG['name']+' : '+DS['id']\n",
    "    dsdir=DS['raw_path']\n",
    "    dsid=DS['id']\n",
    "    algname=ALG['name']\n",
    "    output_dir=output_base_dir+'/'+dsid+'--'+algname\n",
    "    \n",
    "    display(vdom.h3(run_title))\n",
    "    \n",
    "    url='https://ephys-viz.herokuapp.com/?view=dataset&dataset={}'.format(dsdir)\n",
    "    display(vdom.a('Dataset',href=url,target='_blank'))\n",
    "    \n",
    "    url='https://ephys-viz.herokuapp.com/?view=dataset&dataset={}&firings={}'.format(dsdir,kbpath(output_dir+'/firings.mda'))\n",
    "    display(vdom.a('Sorting result',href=url,target='_blank'))\n",
    "    \n",
    "    url='https://ephys-viz.herokuapp.com/?view=templates&templates={}'.format(kbpath(output_dir+'/summary/templates.mda'))\n",
    "    display(vdom.a('Templates',href=url,target='_blank'))\n",
    "    \n",
    "    url='https://ephys-viz.herokuapp.com/?view=sort_comparison&comparison={}'.format(kbpath(output_dir+'/validation/compare_ground_truth.json'))\n",
    "    display(vdom.a('Comparison with ground truth',href=url,target='_blank'))\n",
    "    \n",
    "for run in runs:\n",
    "    show_result(run)"
   ]
  },
  {
   "cell_type": "code",
   "execution_count": null,
   "metadata": {},
   "outputs": [],
   "source": []
  }
 ],
 "metadata": {
  "kernelspec": {
   "display_name": "Python 3",
   "language": "python",
   "name": "python3"
  },
  "language_info": {
   "codemirror_mode": {
    "name": "ipython",
    "version": 3
   },
   "file_extension": ".py",
   "mimetype": "text/x-python",
   "name": "python",
   "nbconvert_exporter": "python",
   "pygments_lexer": "ipython3",
   "version": "3.5.2"
  }
 },
 "nbformat": 4,
 "nbformat_minor": 2
}
