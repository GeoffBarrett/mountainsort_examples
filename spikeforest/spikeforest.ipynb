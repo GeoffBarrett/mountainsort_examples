{
 "cells": [
  {
   "cell_type": "code",
   "execution_count": 1,
   "metadata": {},
   "outputs": [],
   "source": [
    "#######################################\n",
    "# Auto-reload development imports\n",
    "#######################################\n",
    "\n",
    "%load_ext autoreload\n",
    "%autoreload 2"
   ]
  },
  {
   "cell_type": "code",
   "execution_count": 2,
   "metadata": {},
   "outputs": [],
   "source": [
    "#######################################\n",
    "#imports\n",
    "#######################################\n",
    "\n",
    "import os, sys\n",
    "dir0 = os.path.split(os.getcwd())[0]\n",
    "if dir0 not in sys.path:\n",
    "    sys.path.append(dir0)\n",
    "from mountainlab_pytools import mlproc as mlp"
   ]
  },
  {
   "cell_type": "code",
   "execution_count": 18,
   "metadata": {},
   "outputs": [
    {
     "name": "stdout",
     "output_type": "stream",
     "text": [
      "Enter processing passcode for lari node fdb573a66f50\n"
     ]
    },
    {
     "name": "stdin",
     "output_type": "stream",
     "text": [
      " ···\n"
     ]
    }
   ],
   "source": [
    "#######################################\n",
    "# LARI login\n",
    "#######################################\n",
    "\n",
    "lari_id='fdb573a66f50' ## lari_ccblin008\n",
    "#lari_id='19b775bb238f' ## lari_g5ub\n",
    "#lari_id='133898b2b079' ## lari_jm\n",
    "#lari_id='cb48a51bf9e5' ## lari_dub\n",
    "#lari_id='' # local computer\n",
    "\n",
    "mlp.lariLogin(lari_id,lari_passcode=None)"
   ]
  },
  {
   "cell_type": "code",
   "execution_count": 19,
   "metadata": {},
   "outputs": [],
   "source": [
    "#######################################\n",
    "# Import sorting pipelines\n",
    "#######################################\n",
    "\n",
    "from mountainsort4_1_0 import sort_dataset as ms4_sort_dataset\n",
    "from ironclust import sort_dataset as ironclust_sort_dataset"
   ]
  },
  {
   "cell_type": "code",
   "execution_count": 20,
   "metadata": {},
   "outputs": [
    {
     "name": "stdout",
     "output_type": "stream",
     "text": [
      "Directory already exists: /home/magland/src/ml/mountainsort_examples/spikeforest/output\n"
     ]
    }
   ],
   "source": [
    "#######################################\n",
    "# Create output directory\n",
    "#######################################\n",
    "\n",
    "output_base_dir=os.getcwd()+'/output'\n",
    "#import shutil\n",
    "#if os.path.exists(output_base_dir):\n",
    "#    shutil.rmtree(output_base_dir)\n",
    "if not os.path.exists(output_base_dir):\n",
    "    print('Creating directory: {}'.format(output_base_dir))\n",
    "    os.mkdir(output_base_dir)\n",
    "else:\n",
    "    print('Directory already exists: {}'.format(output_base_dir))"
   ]
  },
  {
   "cell_type": "code",
   "execution_count": 21,
   "metadata": {},
   "outputs": [
    {
     "name": "stdout",
     "output_type": "stream",
     "text": [
      "Number of datasets: 1\n"
     ]
    }
   ],
   "source": [
    "#######################################\n",
    "# Set up datasets\n",
    "#######################################\n",
    "\n",
    "datasets=[]\n",
    "datasets.append({\n",
    "    \"id\":\"synth_tetrode_30min\",\n",
    "    \"raw_path\":\"kbucket://b5ecdf1474c5/datasets/synth_datasets/datasets/synth_tetrode_30min\"\n",
    "});\n",
    "datasets.append({\n",
    "    \"id\":\"synth_tetrode_120min\",\n",
    "    \"raw_path\":\"kbucket://b5ecdf1474c5/datasets/synth_datasets/datasets/synth_tetrode_120min\"\n",
    "});\n",
    "datasets.append({\n",
    "    \"id\":\"synth_16ch_30min\",\n",
    "    \"raw_path\":\"kbucket://b5ecdf1474c5/datasets/synth_datasets/datasets/synth_16ch_30min\"\n",
    "});\n",
    "\n",
    "datasets=[datasets[0]]\n",
    "\n",
    "print('Number of datasets: {}'.format(len(datasets)))"
   ]
  },
  {
   "cell_type": "code",
   "execution_count": 22,
   "metadata": {},
   "outputs": [
    {
     "name": "stdout",
     "output_type": "stream",
     "text": [
      "Number of algorithms: 1\n"
     ]
    }
   ],
   "source": [
    "#######################################\n",
    "# Set up algorithms\n",
    "#######################################\n",
    "\n",
    "verbose=''\n",
    "\n",
    "def ms4_thr3(dataset_dir,output_dir):\n",
    "    ms4_sort_dataset(\n",
    "        dataset_dir=dataset_dir,\n",
    "        output_dir=output_dir,\n",
    "        adjacency_radius=-1,\n",
    "        detect_threshold=3,\n",
    "        opts={'verbose':verbose}\n",
    "    )\n",
    "    \n",
    "def ms4_thr4(dataset_dir,output_dir):\n",
    "    ms4_sort_dataset(\n",
    "        dataset_dir=dataset_dir,\n",
    "        output_dir=output_dir,\n",
    "        adjacency_radius=-1,\n",
    "        detect_threshold=4,\n",
    "        opts={'verbose':verbose}\n",
    "    )\n",
    "    \n",
    "def ironclust(dataset_dir,output_dir):\n",
    "    ironclust_sort_dataset(\n",
    "        dataset_dir=dataset_dir,\n",
    "        output_dir=output_dir\n",
    "    )\n",
    "\n",
    "algs=[]\n",
    "algs.append({\"name\":\"ms4_thr3\",\"run\":ms4_thr3})\n",
    "algs.append({\"name\":\"ms4_thr4\",\"run\":ms4_thr4})\n",
    "algs.append({\"name\":\"ironclust\",\"run\":ironclust})\n",
    "\n",
    "algs=[algs[2]]\n",
    "#algs=[algs[0]]\n",
    "#algs=[algs[0],algs[1]]\n",
    "#algs=[algs[0],algs[2]]\n",
    "\n",
    "print('Number of algorithms: {}'.format(len(algs)))"
   ]
  },
  {
   "cell_type": "code",
   "execution_count": 23,
   "metadata": {},
   "outputs": [
    {
     "name": "stdout",
     "output_type": "stream",
     "text": [
      "Number of runs: 1\n"
     ]
    }
   ],
   "source": [
    "#######################################\n",
    "# Collect runs (algorithm/dataset pairs)\n",
    "#######################################\n",
    "\n",
    "runs=[]\n",
    "for i_ds in range(len(datasets)):\n",
    "    for i_alg in range(len(algs)):\n",
    "        runs.append({\"dataset\":datasets[i_ds],\"alg\":algs[i_alg]})\n",
    "#runs=[runs[0]]\n",
    "\n",
    "print('Number of runs: {}'.format(len(runs)))"
   ]
  },
  {
   "cell_type": "code",
   "execution_count": 26,
   "metadata": {},
   "outputs": [
    {
     "data": {
      "application/vnd.jupyter.widget-view+json": {
       "model_id": "4ec1c39cdf8d443ba6c4827e7a570995",
       "version_major": 2,
       "version_minor": 0
      },
      "text/plain": [
       "JSProxyWidget(status='Not yet rendered')"
      ]
     },
     "metadata": {},
     "output_type": "display_data"
    }
   ],
   "source": [
    "#######################################\n",
    "# INITIALIZE THE PIPELINE (Note: for now it is important to have the job monitor in a separate cell) -- See https://github.com/AaronWatters/jp_proxy_widget/issues/2\n",
    "#######################################\n",
    "\n",
    "Pipeline=mlp.initPipeline()"
   ]
  },
  {
   "cell_type": "code",
   "execution_count": 27,
   "metadata": {},
   "outputs": [
    {
     "name": "stdout",
     "output_type": "stream",
     "text": [
      ":::: Applying ironclust to synth_tetrode_30min\n"
     ]
    },
    {
     "data": {
      "application/vnd.jupyter.widget-view+json": {
       "model_id": "99fc9cdcdf9646ae81e42abf544fc7c1",
       "version_major": 2,
       "version_minor": 0
      },
      "text/plain": [
       "Output()"
      ]
     },
     "metadata": {},
     "output_type": "display_data"
    },
    {
     "name": "stdout",
     "output_type": "stream",
     "text": [
      "Finished pipeline.\n"
     ]
    }
   ],
   "source": [
    "#######################################\n",
    "# RUN THE PIPELINE\n",
    "#######################################\n",
    "from spikeforest import add_run_to_pipeline\n",
    "with Pipeline:\n",
    "    for run in runs:\n",
    "        add_run_to_pipeline(run, output_base_dir)"
   ]
  },
  {
   "cell_type": "code",
   "execution_count": 28,
   "metadata": {},
   "outputs": [
    {
     "data": {
      "application/json": {
       "datasets": [
        {
         "id": "synth_tetrode_30min",
         "raw_path": "kbucket://b5ecdf1474c5/datasets/synth_datasets/datasets/synth_tetrode_30min"
        }
       ],
       "runs": [
        {
         "alg": {
          "name": "ironclust"
         },
         "dataset": {
          "id": "synth_tetrode_30min",
          "raw_path": "kbucket://b5ecdf1474c5/datasets/synth_datasets/datasets/synth_tetrode_30min"
         },
         "output_dir": "/home/magland/src/ml/mountainsort_examples/spikeforest/output/synth_tetrode_30min--ironclust"
        }
       ]
      },
      "text/plain": [
       "<IPython.core.display.JSON object>"
      ]
     },
     "metadata": {
      "application/json": {
       "expanded": true
      }
     },
     "output_type": "display_data"
    }
   ],
   "source": [
    "from spikeforest import get_run_output\n",
    "import json\n",
    "\n",
    "output={}\n",
    "output['datasets']=datasets\n",
    "output['runs']=[]\n",
    "for run in runs:\n",
    "    out=get_run_output(run)\n",
    "    output['runs'].append(out)\n",
    "with open('spikeforest_output.json','w') as f:\n",
    "    json.dump(output, f)\n",
    "    \n",
    "from IPython.display import JSON\n",
    "display(JSON(output,expanded=True))"
   ]
  },
  {
   "cell_type": "code",
   "execution_count": 29,
   "metadata": {},
   "outputs": [
    {
     "data": {
      "application/vdom.v1+json": {
       "attributes": {},
       "children": "ironclust : synth_tetrode_30min",
       "tagName": "h3"
      },
      "text/plain": [
       "<h3 />"
      ]
     },
     "metadata": {},
     "output_type": "display_data"
    },
    {
     "data": {
      "application/vdom.v1+json": {
       "attributes": {
        "href": "https://ephys-viz.herokuapp.com/?view=dataset&dataset=kbucket://b5ecdf1474c5/datasets/synth_datasets/datasets/synth_tetrode_30min",
        "target": "_blank"
       },
       "children": "Dataset",
       "tagName": "a"
      },
      "text/plain": [
       "<a />"
      ]
     },
     "metadata": {},
     "output_type": "display_data"
    },
    {
     "data": {
      "application/vdom.v1+json": {
       "attributes": {
        "href": "https://ephys-viz.herokuapp.com/?view=dataset&dataset=kbucket://b5ecdf1474c5/datasets/synth_datasets/datasets/synth_tetrode_30min&firings=sha1://ac16a5b0934b95da846a3bad5ae2589e9c237847",
        "target": "_blank"
       },
       "children": "Sorting result",
       "tagName": "a"
      },
      "text/plain": [
       "<a />"
      ]
     },
     "metadata": {},
     "output_type": "display_data"
    },
    {
     "data": {
      "application/vdom.v1+json": {
       "attributes": {
        "href": "https://ephys-viz.herokuapp.com/?view=templates&templates=sha1://23be52cc7ae868e05d7bb4c0ec0a68f81eb115c8",
        "target": "_blank"
       },
       "children": "Templates",
       "tagName": "a"
      },
      "text/plain": [
       "<a />"
      ]
     },
     "metadata": {},
     "output_type": "display_data"
    },
    {
     "data": {
      "application/vdom.v1+json": {
       "attributes": {
        "href": "https://ephys-viz.herokuapp.com/?view=sort_comparison&comparison=sha1://3c7003ae3827147b70cd57f33c05dc55b659154f",
        "target": "_blank"
       },
       "children": "Comparison with ground truth",
       "tagName": "a"
      },
      "text/plain": [
       "<a />"
      ]
     },
     "metadata": {},
     "output_type": "display_data"
    }
   ],
   "source": [
    "import vdom\n",
    "\n",
    "import json\n",
    "import subprocess\n",
    "def loadPrvObject(fname):\n",
    "    if not os.path.isfile(fname):\n",
    "        if not fname.endswith('.prv'):\n",
    "            if os.path.isfile(fname+'.prv'):\n",
    "                fname=fname+'.prv'\n",
    "            else:\n",
    "                raise Exception('File not found: {}'.format(fname))\n",
    "        else:\n",
    "            raise Exception('File not found: {}'.format(fname))\n",
    "    if fname.endswith('.prv'):\n",
    "        with open(fname) as f:\n",
    "             return json.load(f)\n",
    "    else:\n",
    "        str=subprocess.check_output(['ml-prv-stat', fname]).decode('utf-8').strip()\n",
    "        return json.loads(str)\n",
    "\n",
    "def kbpath(fname):\n",
    "    obj=loadPrvObject(fname)\n",
    "    return 'sha1://'+obj['original_checksum']\n",
    "    \n",
    "def show_result(run):\n",
    "    DS=run['dataset']\n",
    "    ALG=run['alg']\n",
    "    run_title=ALG['name']+' : '+DS['id']\n",
    "    dsdir=DS['raw_path']\n",
    "    dsid=DS['id']\n",
    "    algname=ALG['name']\n",
    "    output_dir=output_base_dir+'/'+dsid+'--'+algname\n",
    "    \n",
    "    display(vdom.h3(run_title))\n",
    "    \n",
    "    url='https://ephys-viz.herokuapp.com/?view=dataset&dataset={}'.format(dsdir)\n",
    "    display(vdom.a('Dataset',href=url,target='_blank'))\n",
    "    \n",
    "    url='https://ephys-viz.herokuapp.com/?view=dataset&dataset={}&firings={}'.format(dsdir,kbpath(output_dir+'/firings.mda'))\n",
    "    display(vdom.a('Sorting result',href=url,target='_blank'))\n",
    "    \n",
    "    url='https://ephys-viz.herokuapp.com/?view=templates&templates={}'.format(kbpath(output_dir+'/summary/templates.mda'))\n",
    "    display(vdom.a('Templates',href=url,target='_blank'))\n",
    "    \n",
    "    url='https://ephys-viz.herokuapp.com/?view=sort_comparison&comparison={}'.format(kbpath(output_dir+'/validation/compare_ground_truth.json'))\n",
    "    display(vdom.a('Comparison with ground truth',href=url,target='_blank'))\n",
    "    \n",
    "for run in runs:\n",
    "    show_result(run)"
   ]
  },
  {
   "cell_type": "code",
   "execution_count": 30,
   "metadata": {},
   "outputs": [
    {
     "data": {
      "image/png": "[encoded data removed]",
      "text/plain": [
       "<Figure size 432x288 with 1 Axes>"
      ]
     },
     "metadata": {},
     "output_type": "display_data"
    }
   ],
   "source": [
    "from matplotlib import pyplot as plt\n",
    "for ii in range(len(runs)):\n",
    "    run=runs[ii]\n",
    "    DS=run['dataset']\n",
    "    ALG=run['alg']\n",
    "    run_title=ALG['name']+' : '+DS['id']\n",
    "    dsdir=DS['raw_path']\n",
    "    dsid=DS['id']\n",
    "    algname=ALG['name']\n",
    "    output_dir=output_base_dir+'/'+dsid+'--'+algname\n",
    "    fname=output_dir+'/validation/compare_ground_truth.json'\n",
    "    \n",
    "    with open(fname,'r') as f:\n",
    "        obj=json.load(f)\n",
    "    true_units=obj['true_units']\n",
    "    units=[]\n",
    "    for k in true_units:\n",
    "        units.append(true_units[k])\n",
    "    accuracies=[unit['accuracy'] for unit in units]\n",
    "    plt.hist(accuracies)\n",
    "    plt.title(run_title)\n",
    "    plt.xlabel('Accuracy')\n",
    "    plt.ylabel('Number of units')\n",
    "    plt.show()"
   ]
  },
  {
   "cell_type": "code",
   "execution_count": null,
   "metadata": {},
   "outputs": [],
   "source": []
  }
 ],
 "metadata": {
  "kernelspec": {
   "display_name": "Python 3",
   "language": "python",
   "name": "python3"
  },
  "language_info": {
   "codemirror_mode": {
    "name": "ipython",
    "version": 3
   },
   "file_extension": ".py",
   "mimetype": "text/x-python",
   "name": "python",
   "nbconvert_exporter": "python",
   "pygments_lexer": "ipython3",
   "version": "3.5.2"
  }
 },
 "nbformat": 4,
 "nbformat_minor": 2
}
