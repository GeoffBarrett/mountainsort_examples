{
 "cells": [
  {
   "cell_type": "code",
   "execution_count": 1,
   "metadata": {},
   "outputs": [],
   "source": [
    "%load_ext autoreload\n",
    "%autoreload 2"
   ]
  },
  {
   "cell_type": "code",
   "execution_count": 2,
   "metadata": {},
   "outputs": [
    {
     "name": "stdout",
     "output_type": "stream",
     "text": [
      "Enter processing passcode for lari node fdb573a66f50\n"
     ]
    }
   ],
   "source": [
    "import os, getpass\n",
    "lari_id='fdb573a66f50' ## lari_ccblin008\n",
    "#lari_id='19b775bb238f' ## lari_g5ub\n",
    "#lari_id='133898b2b079' ## lari_jm\n",
    "#lari_id='cb48a51bf9e5' ## lari_dub\n",
    "#lari_id=''\n",
    "if lari_id:\n",
    "    print('Enter processing passcode for lari node {}'.format(lari_id))\n",
    "    lari_passcode=getpass.getpass()\n",
    "else:\n",
    "    lari_passcode=''\n",
    "os.environ['LARI_ID']=lari_id\n",
    "os.environ['LARI_PASSCODE']=lari_passcode"
   ]
  },
  {
   "cell_type": "code",
   "execution_count": 3,
   "metadata": {},
   "outputs": [],
   "source": [
    "import os\n",
    "import sys\n",
    "dir0 = os.path.split(os.getcwd())[0]\n",
    "if dir0 not in sys.path:\n",
    "    sys.path.append(dir0)"
   ]
  },
  {
   "cell_type": "code",
   "execution_count": 4,
   "metadata": {},
   "outputs": [],
   "source": [
    "from mountainsort4_v1 import sort_dataset as ms4_sort_dataset\n",
    "from summarize_sorting_results import summarize_sorting_results"
   ]
  },
  {
   "cell_type": "code",
   "execution_count": 5,
   "metadata": {},
   "outputs": [],
   "source": [
    "output_base_dir=os.getcwd()+'/output'\n",
    "#import shutil\n",
    "#if os.path.exists(output_base_dir):\n",
    "#    shutil.rmtree(output_base_dir)\n",
    "if not os.path.exists(output_base_dir):\n",
    "    os.mkdir(output_base_dir)"
   ]
  },
  {
   "cell_type": "code",
   "execution_count": 6,
   "metadata": {},
   "outputs": [],
   "source": [
    "datasets=[]\n",
    "datasets.append({\n",
    "    \"id\":\"synth_tetrode_30min\",\n",
    "    \"raw_path\":\"kbucket://b5ecdf1474c5/datasets/synth_datasets/datasets/synth_tetrode_30min\"\n",
    "});\n",
    "datasets.append({\n",
    "    \"id\":\"synth_tetrode_120min\",\n",
    "    \"raw_path\":\"kbucket://b5ecdf1474c5/datasets/synth_datasets/datasets/synth_tetrode_120min\"\n",
    "});\n",
    "#datasets.append({\n",
    "#    \"id\":\"synth_16ch_30min\",\n",
    "#    \"raw_path\":\"kbucket://b5ecdf1474c5/datasets/synth_datasets/datasets/synth_16ch_30min\"\n",
    "#});\n",
    "\n",
    "#datasets=[datasets[0]]"
   ]
  },
  {
   "cell_type": "code",
   "execution_count": 12,
   "metadata": {},
   "outputs": [],
   "source": [
    "verbose='minimal'\n",
    "\n",
    "def ms4_thr3(dataset_dir,output_dir):\n",
    "    ms4_sort_dataset(\n",
    "        dataset_dir=dataset_dir,\n",
    "        output_dir=output_dir,\n",
    "        adjacency_radius=-1,\n",
    "        detect_threshold=3,\n",
    "        opts={'verbose':verbose}\n",
    "    )\n",
    "    \n",
    "def ms4_thr4(dataset_dir,output_dir):\n",
    "    ms4_sort_dataset(\n",
    "        dataset_dir=dataset_dir,\n",
    "        output_dir=output_dir,\n",
    "        adjacency_radius=-1,\n",
    "        detect_threshold=4,\n",
    "        opts={'verbose':verbose}\n",
    "    )\n",
    "\n",
    "algs=[]\n",
    "algs.append({\n",
    "    \"name\":\"ms4_thr3\",\n",
    "    \"run\":ms4_thr3\n",
    "})\n",
    "algs.append({\n",
    "    \"name\":\"ms4_thr4\",\n",
    "    \"run\":ms4_thr4\n",
    "})"
   ]
  },
  {
   "cell_type": "code",
   "execution_count": 13,
   "metadata": {},
   "outputs": [],
   "source": [
    "runs=[]\n",
    "for i_ds in range(len(datasets)):\n",
    "    for i_alg in range(len(algs)):\n",
    "        runs.append({\"dataset\":datasets[i_ds],\"alg\":algs[i_alg]})\n",
    "runs=[runs[0]]"
   ]
  },
  {
   "cell_type": "code",
   "execution_count": 14,
   "metadata": {},
   "outputs": [],
   "source": [
    "def handle_run(run):\n",
    "    DS=run['dataset']\n",
    "    ALG=run['alg']\n",
    "    print(':::: Applying '+ALG['name']+' to '+DS['id'])\n",
    "    dsdir=DS['raw_path']\n",
    "    dsid=DS['id']\n",
    "    algname=ALG['name']\n",
    "    output_dir=output_base_dir+'/'+dsid+'--'+algname\n",
    "    ALG['run'](\n",
    "        dataset_dir=dsdir,\n",
    "        output_dir=output_dir\n",
    "    )\n",
    "    summarize_sorting_results(\n",
    "        sorting_output_dir=output_dir,\n",
    "        output_dir=output_dir+'/summary',\n",
    "        opts={'verbose':verbose}\n",
    "    )"
   ]
  },
  {
   "cell_type": "code",
   "execution_count": 15,
   "metadata": {},
   "outputs": [
    {
     "name": "stdout",
     "output_type": "stream",
     "text": [
      ":::: Applying ms4_thr3 to synth_tetrode_30min\n",
      "Running: ml-run-process ephys.bandpass_filter -i timeseries:kbucket://b5ecdf1474c5/datasets/synth_datasets/datasets/synth_tetrode_30min/raw.mda -o timeseries_out:/home/magland/src/mountainsort_examples/spikeforest/output/synth_tetrode_30min--ms4_thr3/filt.mda.prv -p samplerate:30000 freq_max:6000 freq_min:300 --verbose=minimal\n",
      "JOBS: pending:8 running:1 finished:0\n",
      "Running: ml-run-process ephys.whiten -i timeseries:/home/magland/src/mountainsort_examples/spikeforest/output/synth_tetrode_30min--ms4_thr3/filt.mda.prv -o timeseries_out:/home/magland/src/mountainsort_examples/spikeforest/output/synth_tetrode_30min--ms4_thr3/pre.mda.prv -p  --verbose=minimal\n",
      "JOBS: pending:7 running:1 finished:1\n",
      "Running: ml-run-process ms4alg.sort -i geom:kbucket://b5ecdf1474c5/datasets/synth_datasets/datasets/synth_tetrode_30min/geom.csv timeseries:/home/magland/src/mountainsort_examples/spikeforest/output/synth_tetrode_30min--ms4_thr3/pre.mda.prv -o firings_out:/home/magland/src/mountainsort_examples/spikeforest/output/synth_tetrode_30min--ms4_thr3/firings_uncurated.mda -p adjacency_radius:-1 detect_sign:1 detect_threshold:3 --verbose=minimal\n",
      "JOBS: pending:6 running:1 finished:2\n",
      "\u001b[31mOutput firings_out is too large to automatically download. Saving .prv file instead: /home/magland/src/mountainsort_examples/spikeforest/output/synth_tetrode_30min--ms4_thr3/firings_uncurated.mda.prv\u001b[0m\n",
      "Running: ml-run-process ms3.isolation_metrics -i firings:/home/magland/src/mountainsort_examples/spikeforest/output/synth_tetrode_30min--ms4_thr3/firings_uncurated.mda timeseries:/home/magland/src/mountainsort_examples/spikeforest/output/synth_tetrode_30min--ms4_thr3/pre.mda.prv -o metrics_out:tmp.ms3.isolation_metrics.metrics_out.I3LC0mzLxP.prv -p compute_bursting_parents:true --verbose=minimal\n",
      "Running: ml-run-process ms3.cluster_metrics -i firings:/home/magland/src/mountainsort_examples/spikeforest/output/synth_tetrode_30min--ms4_thr3/firings_uncurated.mda timeseries:/home/magland/src/mountainsort_examples/spikeforest/output/synth_tetrode_30min--ms4_thr3/pre.mda.prv -o cluster_metrics_out:tmp.ms3.cluster_metrics.cluster_metrics_out.YVq18VL9it.prv -p samplerate:30000 --verbose=minimal\n",
      "JOBS: pending:4 running:2 finished:3\n",
      "Running: ml-run-process ms3.combine_cluster_metrics -i metrics_list:tmp.ms3.cluster_metrics.cluster_metrics_out.YVq18VL9it.prv metrics_list:tmp.ms3.isolation_metrics.metrics_out.I3LC0mzLxP.prv -o metrics_out:/home/magland/src/mountainsort_examples/spikeforest/output/synth_tetrode_30min--ms4_thr3/cluster_metrics.json -p  --verbose=minimal\n",
      "JOBS: pending:3 running:1 finished:5\n",
      "Running: ml-run-process ms4alg.create_label_map -i metrics:/home/magland/src/mountainsort_examples/spikeforest/output/synth_tetrode_30min--ms4_thr3/cluster_metrics.json -o label_map_out:tmp.ms4alg.create_label_map.label_map_out.wOaHz14ZkX.prv -p  --verbose=minimal\n",
      "JOBS: pending:2 running:1 finished:6\n",
      "Running: ml-run-process ms4alg.apply_label_map -i firings:/home/magland/src/mountainsort_examples/spikeforest/output/synth_tetrode_30min--ms4_thr3/firings_uncurated.mda label_map:tmp.ms4alg.create_label_map.label_map_out.wOaHz14ZkX.prv -o firings_out:/home/magland/src/mountainsort_examples/spikeforest/output/synth_tetrode_30min--ms4_thr3/firings.mda -p  --verbose=minimal\n",
      "JOBS: pending:1 running:1 finished:7\n",
      "\u001b[31mOutput firings_out is too large to automatically download. Saving .prv file instead: /home/magland/src/mountainsort_examples/spikeforest/output/synth_tetrode_30min--ms4_thr3/firings.mda.prv\u001b[0m\n",
      "Running: ml-run-process ephys.compute_templates -i firings:/home/magland/src/mountainsort_examples/spikeforest/output/synth_tetrode_30min--ms4_thr3/firings.mda timeseries:/home/magland/src/mountainsort_examples/spikeforest/output/synth_tetrode_30min--ms4_thr3/filt.mda -o templates_out:/home/magland/src/mountainsort_examples/spikeforest/output/synth_tetrode_30min--ms4_thr3/summary/templates_filt.mda -p  \n",
      "JOBS: pending:0 running:1 finished:8\n",
      "\u001b[34m[ Getting processor spec... ]\u001b[0m\n",
      "\u001b[34m\u001b[40m \u001b[36m [ Getting processor spec... ] \u001b[0m\u001b[0m\n",
      "\u001b[34m\u001b[40m \u001b[36m  \u001b[0m\u001b[0m\n",
      "\u001b[34m\u001b[40m \u001b[36m [ Checking inputs and substituting prvs ... ] \u001b[0m\u001b[0m\n",
      "\u001b[34m\u001b[40m \u001b[36m [ Computing process signature ... ] \u001b[0m\u001b[0m\n",
      "\u001b[34m\u001b[40m \u001b[36m [ Checking outputs... ] \u001b[0m\u001b[0m\n",
      "\u001b[34m\u001b[40m \u001b[36m [ Checking process cache ... ] \u001b[0m\u001b[0m\n",
      "\u001b[34m\u001b[40m \u001b[36m [ Process ephys.compute_templates already completed. ] \u001b[0m\u001b[0m\n",
      "\u001b[34m\u001b[40m \u001b[36m [ Done. ] \u001b[0m\u001b[0m\n",
      "\u001b[34m\u001b[40m \u001b[36m Waiting for prv object for output: templates_out \u001b[0m\u001b[0m\n",
      "\u001b[34m\u001b[40m \u001b[36m Waiting for output to be accessible on kbucket: templates_out \u001b[0m\u001b[0m\n",
      "\u001b[34m\u001b[40m \u001b[36m  \u001b[0m\u001b[0m\n",
      "\u001b[34mDownloading [https://kbucket.flatironinstitute.org/fdb573a66f50/download/outputs/156ba1_templates_out] > [/home/magland/src/mountainsort_examples/spikeforest/output/synth_tetrode_30min--ms4_thr3/summary/templates_filt.mda.downloading.rgL21] ...\u001b[0m\n",
      "\u001b[34mDownloaded 39 KB to /home/magland/src/mountainsort_examples/spikeforest/output/synth_tetrode_30min--ms4_thr3/summary/templates_filt.mda.downloading.rgL21.\u001b[0m\n",
      "JOBS: pending:0 running:0 finished:9\n"
     ]
    }
   ],
   "source": [
    "from mountainlab_pytools import mlproc as mlp\n",
    "mlp.initPipeline()\n",
    "for i in range(len(runs)):\n",
    "    handle_run(runs[i])\n",
    "mlp.runPipeline()"
   ]
  },
  {
   "cell_type": "code",
   "execution_count": 11,
   "metadata": {},
   "outputs": [
    {
     "data": {
      "text/plain": [
       "list"
      ]
     },
     "execution_count": 11,
     "metadata": {},
     "output_type": "execute_result"
    }
   ],
   "source": [
    "type([1,2,3])"
   ]
  },
  {
   "cell_type": "code",
   "execution_count": 15,
   "metadata": {},
   "outputs": [
    {
     "data": {
      "text/plain": [
       "0"
      ]
     },
     "execution_count": 15,
     "metadata": {},
     "output_type": "execute_result"
    }
   ],
   "source": [
    "os.system('ml-run-process ephys.compute_templates -i firings:/home/magland/src/mountainsort_examples/spikeforest/output/synth_tetrode_30min--ms4_thr3/firings.mda timeseries:/home/magland/src/mountainsort_examples/spikeforest/output/synth_tetrode_30min--ms4_thr3/filt.mda -o templates_out:/home/magland/src/mountainsort_examples/spikeforest/output/synth_tetrode_30min--ms4_thr3/summary/templates_filt.mda -p ')"
   ]
  },
  {
   "cell_type": "code",
   "execution_count": null,
   "metadata": {},
   "outputs": [],
   "source": [
    "os.system('ml-spec ')"
   ]
  }
 ],
 "metadata": {
  "kernelspec": {
   "display_name": "Python 3",
   "language": "python",
   "name": "python3"
  },
  "language_info": {
   "codemirror_mode": {
    "name": "ipython",
    "version": 3
   },
   "file_extension": ".py",
   "mimetype": "text/x-python",
   "name": "python",
   "nbconvert_exporter": "python",
   "pygments_lexer": "ipython3",
   "version": "3.5.2"
  }
 },
 "nbformat": 4,
 "nbformat_minor": 2
}
