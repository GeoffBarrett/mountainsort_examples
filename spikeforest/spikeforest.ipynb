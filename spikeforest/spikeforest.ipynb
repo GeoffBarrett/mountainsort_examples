{
 "cells": [
  {
   "cell_type": "code",
   "execution_count": 1,
   "metadata": {},
   "outputs": [],
   "source": [
    "#######################################\n",
    "# Auto-reload development imports\n",
    "#######################################\n",
    "\n",
    "%load_ext autoreload\n",
    "%autoreload 2"
   ]
  },
  {
   "cell_type": "code",
   "execution_count": 2,
   "metadata": {},
   "outputs": [],
   "source": [
    "#######################################\n",
    "#imports\n",
    "#######################################\n",
    "\n",
    "import os, sys\n",
    "dir0 = os.path.split(os.getcwd())[0]\n",
    "if dir0 not in sys.path:\n",
    "    sys.path.append(dir0)\n",
    "from mountainlab_pytools import mlproc as mlp"
   ]
  },
  {
   "cell_type": "code",
   "execution_count": 3,
   "metadata": {},
   "outputs": [
    {
     "name": "stdout",
     "output_type": "stream",
     "text": [
      "Enter processing passcode for lari node cb48a51bf9e5\n"
     ]
    }
   ],
   "source": [
    "#######################################\n",
    "# LARI login\n",
    "#######################################\n",
    "\n",
    "#lari_id='fdb573a66f50' ## lari_ccblin008\n",
    "#lari_id='19b775bb238f' ## lari_g5ub\n",
    "#lari_id='133898b2b079' ## lari_jm\n",
    "lari_id='cb48a51bf9e5'\n",
    "#lari_id=''\n",
    "\n",
    "mlp.lariLogin(lari_id,lari_passcode=None)"
   ]
  },
  {
   "cell_type": "code",
   "execution_count": 4,
   "metadata": {},
   "outputs": [],
   "source": [
    "#######################################\n",
    "# Import sorting pipelines\n",
    "#######################################\n",
    "\n",
    "from mountainsort4_1_0 import sort_dataset as ms4_sort_dataset\n",
    "from summarize_sorting_results import summarize_sorting_results\n",
    "from validate_sorting_results import validate_sorting_results"
   ]
  },
  {
   "cell_type": "code",
   "execution_count": 5,
   "metadata": {},
   "outputs": [
    {
     "name": "stdout",
     "output_type": "stream",
     "text": [
      "Directory already exists: /home/magland/src/mountainsort_examples/spikeforest/output\n"
     ]
    }
   ],
   "source": [
    "#######################################\n",
    "# Create output directory\n",
    "#######################################\n",
    "\n",
    "output_base_dir=os.getcwd()+'/output'\n",
    "#import shutil\n",
    "#if os.path.exists(output_base_dir):\n",
    "#    shutil.rmtree(output_base_dir)\n",
    "if not os.path.exists(output_base_dir):\n",
    "    print('Creating directory: {}'.format(output_base_dir))\n",
    "    os.mkdir(output_base_dir)\n",
    "else:\n",
    "    print('Directory already exists: {}'.format(output_base_dir))"
   ]
  },
  {
   "cell_type": "code",
   "execution_count": 6,
   "metadata": {},
   "outputs": [
    {
     "name": "stdout",
     "output_type": "stream",
     "text": [
      "Number of datasets: 1\n"
     ]
    }
   ],
   "source": [
    "#######################################\n",
    "# Set up datasets\n",
    "#######################################\n",
    "\n",
    "datasets=[]\n",
    "datasets.append({\n",
    "    \"id\":\"synth_tetrode_30min\",\n",
    "    \"raw_path\":\"kbucket://b5ecdf1474c5/datasets/synth_datasets/datasets/synth_tetrode_30min\"\n",
    "});\n",
    "datasets.append({\n",
    "    \"id\":\"synth_tetrode_120min\",\n",
    "    \"raw_path\":\"kbucket://b5ecdf1474c5/datasets/synth_datasets/datasets/synth_tetrode_120min\"\n",
    "});\n",
    "#datasets.append({\n",
    "#    \"id\":\"synth_16ch_30min\",\n",
    "#    \"raw_path\":\"kbucket://b5ecdf1474c5/datasets/synth_datasets/datasets/synth_16ch_30min\"\n",
    "#});\n",
    "\n",
    "datasets=[datasets[0]]\n",
    "\n",
    "print('Number of datasets: {}'.format(len(datasets)))"
   ]
  },
  {
   "cell_type": "code",
   "execution_count": 7,
   "metadata": {},
   "outputs": [],
   "source": [
    "import json\n",
    "def read_dataset_params(dsdir):\n",
    "    params_fname=mlp.realizeFile(dsdir+'/params.json')\n",
    "    if not os.path.exists(params_fname):\n",
    "        raise Exception('Dataset parameter file does not exist: '+params_fname)\n",
    "    with open(params_fname) as f:\n",
    "        return json.load(f)\n",
    "\n",
    "def ironclust_sort_dataset(dataset_dir,output_dir):\n",
    "    if not os.path.exists(output_dir):\n",
    "        os.mkdir(output_dir)\n",
    "        \n",
    "    # Dataset parameters\n",
    "    ds_params=read_dataset_params(dataset_dir)\n",
    "    \n",
    "    detect_sign=1\n",
    "    if 'spike_sign' in ds_params:\n",
    "        detect_sign=ds_params['spike_sign']\n",
    "    if 'detect_sign' in ds_params:\n",
    "        detect_sign=ds_params['detect_sign']\n",
    "    \n",
    "    mlp.addProcess(\n",
    "        'ironclust.sort',\n",
    "        {\n",
    "            'timeseries':dataset_dir+'/raw.mda',\n",
    "            'geom':dataset_dir+'/geom.csv',\n",
    "        },{\n",
    "            'firings_out':output_dir+'/firings.mda'\n",
    "        },\n",
    "        {\n",
    "            'samplerate':ds_params['samplerate'],\n",
    "            'detect_sign':detect_sign\n",
    "            #'should_cause_error':123\n",
    "        },\n",
    "        {\n",
    "        }\n",
    "    )"
   ]
  },
  {
   "cell_type": "code",
   "execution_count": 8,
   "metadata": {},
   "outputs": [
    {
     "name": "stdout",
     "output_type": "stream",
     "text": [
      "Number of algorithms: 3\n"
     ]
    }
   ],
   "source": [
    "#######################################\n",
    "# Set up algorithms\n",
    "#######################################\n",
    "\n",
    "verbose=''\n",
    "\n",
    "def ms4_thr3(dataset_dir,output_dir):\n",
    "    ms4_sort_dataset(\n",
    "        dataset_dir=dataset_dir,\n",
    "        output_dir=output_dir,\n",
    "        adjacency_radius=-1,\n",
    "        detect_threshold=3,\n",
    "        opts={'verbose':verbose}\n",
    "    )\n",
    "    \n",
    "def ms4_thr4(dataset_dir,output_dir):\n",
    "    ms4_sort_dataset(\n",
    "        dataset_dir=dataset_dir,\n",
    "        output_dir=output_dir,\n",
    "        adjacency_radius=-1,\n",
    "        detect_threshold=4,\n",
    "        opts={'verbose':verbose}\n",
    "    )\n",
    "    \n",
    "def ironclust(dataset_dir,output_dir):\n",
    "    ironclust_sort_dataset(\n",
    "        dataset_dir=dataset_dir,\n",
    "        output_dir=output_dir\n",
    "    )\n",
    "\n",
    "algs=[]\n",
    "algs.append({\n",
    "    \"name\":\"ms4_thr3\",\n",
    "    \"run\":ms4_thr3\n",
    "})\n",
    "algs.append({\n",
    "    \"name\":\"ms4_thr4\",\n",
    "    \"run\":ms4_thr4\n",
    "})\n",
    "algs.append({\n",
    "    \"name\":\"ironclust\",\n",
    "    \"run\":ironclust\n",
    "})\n",
    "#algs=[algs[2]]\n",
    "#algs=[algs[0],algs[1]]\n",
    "#algs=[algs[0],algs[2]]\n",
    "\n",
    "print('Number of algorithms: {}'.format(len(algs)))"
   ]
  },
  {
   "cell_type": "code",
   "execution_count": 9,
   "metadata": {},
   "outputs": [
    {
     "name": "stdout",
     "output_type": "stream",
     "text": [
      "Number of runs: 3\n"
     ]
    }
   ],
   "source": [
    "#######################################\n",
    "# Collect runs (algorithm/dataset pairs)\n",
    "#######################################\n",
    "\n",
    "runs=[]\n",
    "for i_ds in range(len(datasets)):\n",
    "    for i_alg in range(len(algs)):\n",
    "        runs.append({\"dataset\":datasets[i_ds],\"alg\":algs[i_alg]})\n",
    "#runs=[runs[0]]\n",
    "\n",
    "print('Number of runs: {}'.format(len(runs)))"
   ]
  },
  {
   "cell_type": "code",
   "execution_count": 10,
   "metadata": {},
   "outputs": [],
   "source": [
    "#######################################\n",
    "# Define the pipeline for the run\n",
    "#######################################\n",
    "\n",
    "def handle_run(run):\n",
    "    DS=run['dataset']\n",
    "    ALG=run['alg']\n",
    "    print(':::: Applying '+ALG['name']+' to '+DS['id'])\n",
    "    dsdir=DS['raw_path']\n",
    "    dsid=DS['id']\n",
    "    algname=ALG['name']\n",
    "    output_dir=output_base_dir+'/'+dsid+'--'+algname\n",
    "    ALG['run'](\n",
    "        dataset_dir=dsdir,\n",
    "        output_dir=output_dir\n",
    "    )\n",
    "    summarize_sorting_results(\n",
    "        dataset_dir=dsdir,\n",
    "        sorting_output_dir=output_dir,\n",
    "        output_dir=output_dir+'/summary',\n",
    "        opts={'verbose':verbose}\n",
    "    )\n",
    "    validate_sorting_results(\n",
    "        dataset_dir=dsdir,\n",
    "        sorting_output_dir=output_dir,\n",
    "        output_dir=output_dir+'/validation',\n",
    "        opts={'verbose':verbose}\n",
    "    )"
   ]
  },
  {
   "cell_type": "code",
   "execution_count": 12,
   "metadata": {},
   "outputs": [
    {
     "name": "stdout",
     "output_type": "stream",
     "text": [
      ":::: Applying ms4_thr3 to synth_tetrode_30min\n"
     ]
    },
    {
     "data": {
      "application/vnd.jupyter.widget-view+json": {
       "model_id": "804bdf1d3af14cea8a63bb33be6a4c04",
       "version_major": 2,
       "version_minor": 0
      },
      "text/plain": [
       "Output()"
      ]
     },
     "metadata": {},
     "output_type": "display_data"
    },
    {
     "data": {
      "application/vnd.jupyter.widget-view+json": {
       "model_id": "405f982f15f047248389ce97185d558e",
       "version_major": 2,
       "version_minor": 0
      },
      "text/plain": [
       "Output()"
      ]
     },
     "metadata": {},
     "output_type": "display_data"
    },
    {
     "data": {
      "application/vnd.jupyter.widget-view+json": {
       "model_id": "5589520a1a0e454481ffd336a510d020",
       "version_major": 2,
       "version_minor": 0
      },
      "text/plain": [
       "Output()"
      ]
     },
     "metadata": {},
     "output_type": "display_data"
    },
    {
     "data": {
      "application/vnd.jupyter.widget-view+json": {
       "model_id": "ca1588d5e4ac4596996aa8851ea6b044",
       "version_major": 2,
       "version_minor": 0
      },
      "text/plain": [
       "Output()"
      ]
     },
     "metadata": {},
     "output_type": "display_data"
    },
    {
     "data": {
      "application/vnd.jupyter.widget-view+json": {
       "model_id": "18940bd744bc40519d2844a707c79a0a",
       "version_major": 2,
       "version_minor": 0
      },
      "text/plain": [
       "Output()"
      ]
     },
     "metadata": {},
     "output_type": "display_data"
    },
    {
     "data": {
      "application/vnd.jupyter.widget-view+json": {
       "model_id": "2ffceaebba844b1786e46968435e3c88",
       "version_major": 2,
       "version_minor": 0
      },
      "text/plain": [
       "Output()"
      ]
     },
     "metadata": {},
     "output_type": "display_data"
    },
    {
     "data": {
      "application/vnd.jupyter.widget-view+json": {
       "model_id": "6e9ddcd193bb4d179490a15f9033c445",
       "version_major": 2,
       "version_minor": 0
      },
      "text/plain": [
       "Output()"
      ]
     },
     "metadata": {},
     "output_type": "display_data"
    },
    {
     "data": {
      "application/vnd.jupyter.widget-view+json": {
       "model_id": "efd9a060ea1b4a2684a51e1f69619f6e",
       "version_major": 2,
       "version_minor": 0
      },
      "text/plain": [
       "Output()"
      ]
     },
     "metadata": {},
     "output_type": "display_data"
    },
    {
     "data": {
      "application/vnd.jupyter.widget-view+json": {
       "model_id": "4f7854112c094736916474b9b102f05e",
       "version_major": 2,
       "version_minor": 0
      },
      "text/plain": [
       "Output()"
      ]
     },
     "metadata": {},
     "output_type": "display_data"
    },
    {
     "data": {
      "application/vnd.jupyter.widget-view+json": {
       "model_id": "5e86b58fe45148daac9f96e47c0ee57a",
       "version_major": 2,
       "version_minor": 0
      },
      "text/plain": [
       "Output()"
      ]
     },
     "metadata": {},
     "output_type": "display_data"
    },
    {
     "name": "stdout",
     "output_type": "stream",
     "text": [
      "Running pipeline...\n",
      "Running: ml-run-process ephys.bandpass_filter -i timeseries:kbucket://b5ecdf1474c5/datasets/synth_datasets/datasets/synth_tetrode_30min/raw.mda -o timeseries_out:/home/magland/src/mountainsort_examples/spikeforest/output/synth_tetrode_30min--ms4_thr3/filt.mda.prv -p freq_max:6000 samplerate:30000 freq_min:300 --verbose= --lari_out=tmp.ephys.bandpass_filter.lari_out.Dp7PV1sSdk.json\n",
      "JOBS: pending:9 running:1 finished:0\n",
      "Running: ml-run-process ephys.whiten -i timeseries:/home/magland/src/mountainsort_examples/spikeforest/output/synth_tetrode_30min--ms4_thr3/filt.mda.prv -o timeseries_out:/home/magland/src/mountainsort_examples/spikeforest/output/synth_tetrode_30min--ms4_thr3/pre.mda.prv -p  --verbose= --lari_out=tmp.ephys.whiten.lari_out.NGJhnWO6E3.json\n",
      "JOBS: pending:8 running:1 finished:1\n",
      "Running: ml-run-process ms4alg.sort -i timeseries:/home/magland/src/mountainsort_examples/spikeforest/output/synth_tetrode_30min--ms4_thr3/pre.mda.prv geom:kbucket://b5ecdf1474c5/datasets/synth_datasets/datasets/synth_tetrode_30min/geom.csv -o firings_out:/home/magland/src/mountainsort_examples/spikeforest/output/synth_tetrode_30min--ms4_thr3/firings_uncurated.mda -p adjacency_radius:-1 detect_threshold:3 detect_sign:1 --verbose= --lari_out=tmp.ms4alg.sort.lari_out.9Y5dfKX1SX.json\n",
      "JOBS: pending:7 running:1 finished:2\n",
      "Running: ml-run-process ms3.cluster_metrics -i timeseries:/home/magland/src/mountainsort_examples/spikeforest/output/synth_tetrode_30min--ms4_thr3/pre.mda.prv firings:/home/magland/src/mountainsort_examples/spikeforest/output/synth_tetrode_30min--ms4_thr3/firings_uncurated.mda -o cluster_metrics_out:tmp.ms3.cluster_metrics.cluster_metrics_out.ZrGr0x9Keg.prv -p samplerate:30000 --verbose= --lari_out=tmp.ms3.cluster_metrics.lari_out.1AcHI1zT0W.json\n",
      "Running: ml-run-process ms3.isolation_metrics -i timeseries:/home/magland/src/mountainsort_examples/spikeforest/output/synth_tetrode_30min--ms4_thr3/pre.mda.prv firings:/home/magland/src/mountainsort_examples/spikeforest/output/synth_tetrode_30min--ms4_thr3/firings_uncurated.mda -o metrics_out:tmp.ms3.isolation_metrics.metrics_out.D6Tu8mfzO7.prv -p compute_bursting_parents:true --verbose= --lari_out=tmp.ms3.isolation_metrics.lari_out.uvtGOgc0Nl.json\n",
      "JOBS: pending:5 running:2 finished:3\n",
      "Running: ml-run-process ms3.combine_cluster_metrics -i metrics_list:tmp.ms3.cluster_metrics.cluster_metrics_out.ZrGr0x9Keg.prv metrics_list:tmp.ms3.isolation_metrics.metrics_out.D6Tu8mfzO7.prv -o metrics_out:/home/magland/src/mountainsort_examples/spikeforest/output/synth_tetrode_30min--ms4_thr3/cluster_metrics.json -p  --verbose= --lari_out=tmp.ms3.combine_cluster_metrics.lari_out.vp83FVDL05.json\n",
      "JOBS: pending:4 running:1 finished:5\n",
      "Running: ml-run-process ms4alg.create_label_map -i metrics:/home/magland/src/mountainsort_examples/spikeforest/output/synth_tetrode_30min--ms4_thr3/cluster_metrics.json -o label_map_out:tmp.ms4alg.create_label_map.label_map_out.Zcou1SDNf1.prv -p  --verbose= --lari_out=tmp.ms4alg.create_label_map.lari_out.VdvFHv2Pc6.json\n",
      "JOBS: pending:3 running:1 finished:6\n",
      "Running: ml-run-process ms4alg.apply_label_map -i firings:/home/magland/src/mountainsort_examples/spikeforest/output/synth_tetrode_30min--ms4_thr3/firings_uncurated.mda label_map:tmp.ms4alg.create_label_map.label_map_out.Zcou1SDNf1.prv -o firings_out:/home/magland/src/mountainsort_examples/spikeforest/output/synth_tetrode_30min--ms4_thr3/firings.mda -p  --verbose= --lari_out=tmp.ms4alg.apply_label_map.lari_out.lFXMvjVh1V.json\n",
      "JOBS: pending:2 running:1 finished:7\n",
      "Running: ml-run-process ephys.compute_templates -i timeseries:kbucket://b5ecdf1474c5/datasets/synth_datasets/datasets/synth_tetrode_30min/raw.mda firings:/home/magland/src/mountainsort_examples/spikeforest/output/synth_tetrode_30min--ms4_thr3/firings.mda -o templates_out:/home/magland/src/mountainsort_examples/spikeforest/output/synth_tetrode_30min--ms4_thr3/summary/templates.mda -p  --lari_out=tmp.ephys.compute_templates.lari_out.m3YFzM90RS.json\n",
      "Running: ml-run-process ephys.compare_ground_truth -i firings_true:kbucket://b5ecdf1474c5/datasets/synth_datasets/datasets/synth_tetrode_30min/firings_true.mda firings:/home/magland/src/mountainsort_examples/spikeforest/output/synth_tetrode_30min--ms4_thr3/firings.mda -o json_out:/home/magland/src/mountainsort_examples/spikeforest/output/synth_tetrode_30min--ms4_thr3/validation/compare_ground_truth.json -p  --lari_out=tmp.ephys.compare_ground_truth.lari_out.VcLlF6DimP.json\n",
      "JOBS: pending:0 running:2 finished:8\n",
      "JOBS: pending:0 running:0 finished:10\n",
      "Finished pipeline.\n",
      ":::: Applying ms4_thr4 to synth_tetrode_30min\n"
     ]
    },
    {
     "data": {
      "application/vnd.jupyter.widget-view+json": {
       "model_id": "ae083c666933476bbd82798b1ebba32e",
       "version_major": 2,
       "version_minor": 0
      },
      "text/plain": [
       "Output()"
      ]
     },
     "metadata": {},
     "output_type": "display_data"
    },
    {
     "data": {
      "application/vnd.jupyter.widget-view+json": {
       "model_id": "bc52089f8bbf4ad2aabd10b224c9a78a",
       "version_major": 2,
       "version_minor": 0
      },
      "text/plain": [
       "Output()"
      ]
     },
     "metadata": {},
     "output_type": "display_data"
    },
    {
     "data": {
      "application/vnd.jupyter.widget-view+json": {
       "model_id": "4f8259b2273841bf859979dd34472331",
       "version_major": 2,
       "version_minor": 0
      },
      "text/plain": [
       "Output()"
      ]
     },
     "metadata": {},
     "output_type": "display_data"
    },
    {
     "data": {
      "application/vnd.jupyter.widget-view+json": {
       "model_id": "340ccfc2ef2944a7a1c72c0dbf093484",
       "version_major": 2,
       "version_minor": 0
      },
      "text/plain": [
       "Output()"
      ]
     },
     "metadata": {},
     "output_type": "display_data"
    },
    {
     "data": {
      "application/vnd.jupyter.widget-view+json": {
       "model_id": "2414bff2e127457fa803b9efa3739b68",
       "version_major": 2,
       "version_minor": 0
      },
      "text/plain": [
       "Output()"
      ]
     },
     "metadata": {},
     "output_type": "display_data"
    },
    {
     "data": {
      "application/vnd.jupyter.widget-view+json": {
       "model_id": "5eba2e12b3f94d8786f0f39329b52061",
       "version_major": 2,
       "version_minor": 0
      },
      "text/plain": [
       "Output()"
      ]
     },
     "metadata": {},
     "output_type": "display_data"
    },
    {
     "data": {
      "application/vnd.jupyter.widget-view+json": {
       "model_id": "5ca09ae8ec344a139bb418fbc6967115",
       "version_major": 2,
       "version_minor": 0
      },
      "text/plain": [
       "Output()"
      ]
     },
     "metadata": {},
     "output_type": "display_data"
    },
    {
     "data": {
      "application/vnd.jupyter.widget-view+json": {
       "model_id": "fb690f61104e406e902618e4b2306ae7",
       "version_major": 2,
       "version_minor": 0
      },
      "text/plain": [
       "Output()"
      ]
     },
     "metadata": {},
     "output_type": "display_data"
    },
    {
     "data": {
      "application/vnd.jupyter.widget-view+json": {
       "model_id": "dbf3e897102c4fbfb32917f84c862383",
       "version_major": 2,
       "version_minor": 0
      },
      "text/plain": [
       "Output()"
      ]
     },
     "metadata": {},
     "output_type": "display_data"
    },
    {
     "data": {
      "application/vnd.jupyter.widget-view+json": {
       "model_id": "494fb4f5f0e543debea584580caff3ae",
       "version_major": 2,
       "version_minor": 0
      },
      "text/plain": [
       "Output()"
      ]
     },
     "metadata": {},
     "output_type": "display_data"
    },
    {
     "name": "stdout",
     "output_type": "stream",
     "text": [
      "Running pipeline...\n",
      "Running: ml-run-process ephys.bandpass_filter -i timeseries:kbucket://b5ecdf1474c5/datasets/synth_datasets/datasets/synth_tetrode_30min/raw.mda -o timeseries_out:/home/magland/src/mountainsort_examples/spikeforest/output/synth_tetrode_30min--ms4_thr4/filt.mda.prv -p freq_max:6000 samplerate:30000 freq_min:300 --verbose= --lari_out=tmp.ephys.bandpass_filter.lari_out.ZmnsKfWOnn.json\n",
      "JOBS: pending:9 running:1 finished:0\n",
      "Running: ml-run-process ephys.whiten -i timeseries:/home/magland/src/mountainsort_examples/spikeforest/output/synth_tetrode_30min--ms4_thr4/filt.mda.prv -o timeseries_out:/home/magland/src/mountainsort_examples/spikeforest/output/synth_tetrode_30min--ms4_thr4/pre.mda.prv -p  --verbose= --lari_out=tmp.ephys.whiten.lari_out.Xlxklefq8p.json\n",
      "JOBS: pending:8 running:1 finished:1\n",
      "Running: ml-run-process ms4alg.sort -i timeseries:/home/magland/src/mountainsort_examples/spikeforest/output/synth_tetrode_30min--ms4_thr4/pre.mda.prv geom:kbucket://b5ecdf1474c5/datasets/synth_datasets/datasets/synth_tetrode_30min/geom.csv -o firings_out:/home/magland/src/mountainsort_examples/spikeforest/output/synth_tetrode_30min--ms4_thr4/firings_uncurated.mda -p adjacency_radius:-1 detect_threshold:4 detect_sign:1 --verbose= --lari_out=tmp.ms4alg.sort.lari_out.EXP5qpZSW5.json\n",
      "JOBS: pending:7 running:1 finished:2\n",
      "Running: ml-run-process ms3.cluster_metrics -i timeseries:/home/magland/src/mountainsort_examples/spikeforest/output/synth_tetrode_30min--ms4_thr4/pre.mda.prv firings:/home/magland/src/mountainsort_examples/spikeforest/output/synth_tetrode_30min--ms4_thr4/firings_uncurated.mda -o cluster_metrics_out:tmp.ms3.cluster_metrics.cluster_metrics_out.eySKzOGrgI.prv -p samplerate:30000 --verbose= --lari_out=tmp.ms3.cluster_metrics.lari_out.zQAHoO9nZZ.json\n",
      "Running: ml-run-process ms3.isolation_metrics -i timeseries:/home/magland/src/mountainsort_examples/spikeforest/output/synth_tetrode_30min--ms4_thr4/pre.mda.prv firings:/home/magland/src/mountainsort_examples/spikeforest/output/synth_tetrode_30min--ms4_thr4/firings_uncurated.mda -o metrics_out:tmp.ms3.isolation_metrics.metrics_out.z5eJddDsuR.prv -p compute_bursting_parents:true --verbose= --lari_out=tmp.ms3.isolation_metrics.lari_out.iG88ggNhwr.json\n",
      "JOBS: pending:5 running:2 finished:3\n",
      "Running: ml-run-process ms3.combine_cluster_metrics -i metrics_list:tmp.ms3.cluster_metrics.cluster_metrics_out.eySKzOGrgI.prv metrics_list:tmp.ms3.isolation_metrics.metrics_out.z5eJddDsuR.prv -o metrics_out:/home/magland/src/mountainsort_examples/spikeforest/output/synth_tetrode_30min--ms4_thr4/cluster_metrics.json -p  --verbose= --lari_out=tmp.ms3.combine_cluster_metrics.lari_out.6yGYZwIu6n.json\n",
      "JOBS: pending:4 running:1 finished:5\n",
      "Running: ml-run-process ms4alg.create_label_map -i metrics:/home/magland/src/mountainsort_examples/spikeforest/output/synth_tetrode_30min--ms4_thr4/cluster_metrics.json -o label_map_out:tmp.ms4alg.create_label_map.label_map_out.Kn5V66Zjjl.prv -p  --verbose= --lari_out=tmp.ms4alg.create_label_map.lari_out.NBznbfMjSP.json\n",
      "JOBS: pending:3 running:1 finished:6\n",
      "Running: ml-run-process ms4alg.apply_label_map -i firings:/home/magland/src/mountainsort_examples/spikeforest/output/synth_tetrode_30min--ms4_thr4/firings_uncurated.mda label_map:tmp.ms4alg.create_label_map.label_map_out.Kn5V66Zjjl.prv -o firings_out:/home/magland/src/mountainsort_examples/spikeforest/output/synth_tetrode_30min--ms4_thr4/firings.mda -p  --verbose= --lari_out=tmp.ms4alg.apply_label_map.lari_out.Xasi5M0aIJ.json\n",
      "JOBS: pending:2 running:1 finished:7\n",
      "Running: ml-run-process ephys.compute_templates -i timeseries:kbucket://b5ecdf1474c5/datasets/synth_datasets/datasets/synth_tetrode_30min/raw.mda firings:/home/magland/src/mountainsort_examples/spikeforest/output/synth_tetrode_30min--ms4_thr4/firings.mda -o templates_out:/home/magland/src/mountainsort_examples/spikeforest/output/synth_tetrode_30min--ms4_thr4/summary/templates.mda -p  --lari_out=tmp.ephys.compute_templates.lari_out.Op73aDZAfb.json\n",
      "Running: ml-run-process ephys.compare_ground_truth -i firings_true:kbucket://b5ecdf1474c5/datasets/synth_datasets/datasets/synth_tetrode_30min/firings_true.mda firings:/home/magland/src/mountainsort_examples/spikeforest/output/synth_tetrode_30min--ms4_thr4/firings.mda -o json_out:/home/magland/src/mountainsort_examples/spikeforest/output/synth_tetrode_30min--ms4_thr4/validation/compare_ground_truth.json -p  --lari_out=tmp.ephys.compare_ground_truth.lari_out.ZvJRED0G05.json\n",
      "JOBS: pending:0 running:2 finished:8\n",
      "JOBS: pending:0 running:1 finished:9\n",
      "JOBS: pending:0 running:0 finished:10\n",
      "Finished pipeline.\n",
      ":::: Applying ironclust to synth_tetrode_30min\n"
     ]
    },
    {
     "data": {
      "application/vnd.jupyter.widget-view+json": {
       "model_id": "819d742e404b46ab9d2e76d68b614aa2",
       "version_major": 2,
       "version_minor": 0
      },
      "text/plain": [
       "Output()"
      ]
     },
     "metadata": {},
     "output_type": "display_data"
    },
    {
     "data": {
      "application/vnd.jupyter.widget-view+json": {
       "model_id": "4bfac3482784493eaa23609fcedecf13",
       "version_major": 2,
       "version_minor": 0
      },
      "text/plain": [
       "Output()"
      ]
     },
     "metadata": {},
     "output_type": "display_data"
    },
    {
     "data": {
      "application/vnd.jupyter.widget-view+json": {
       "model_id": "97db6338146c4e5a9063b2cb955dc2d8",
       "version_major": 2,
       "version_minor": 0
      },
      "text/plain": [
       "Output()"
      ]
     },
     "metadata": {},
     "output_type": "display_data"
    },
    {
     "name": "stdout",
     "output_type": "stream",
     "text": [
      "Running pipeline...\n",
      "Running: ml-run-process ironclust.sort -i timeseries:kbucket://b5ecdf1474c5/datasets/synth_datasets/datasets/synth_tetrode_30min/raw.mda geom:kbucket://b5ecdf1474c5/datasets/synth_datasets/datasets/synth_tetrode_30min/geom.csv -o firings_out:/home/magland/src/mountainsort_examples/spikeforest/output/synth_tetrode_30min--ironclust/firings.mda -p samplerate:30000 detect_sign:1 --lari_out=tmp.ironclust.sort.lari_out.v2ExeiWUqt.json\n",
      "JOBS: pending:2 running:1 finished:0\n",
      "Running: ml-run-process ephys.compute_templates -i timeseries:kbucket://b5ecdf1474c5/datasets/synth_datasets/datasets/synth_tetrode_30min/raw.mda firings:/home/magland/src/mountainsort_examples/spikeforest/output/synth_tetrode_30min--ironclust/firings.mda -o templates_out:/home/magland/src/mountainsort_examples/spikeforest/output/synth_tetrode_30min--ironclust/summary/templates.mda -p  --lari_out=tmp.ephys.compute_templates.lari_out.bCIo0AFr0d.json\n",
      "Running: ml-run-process ephys.compare_ground_truth -i firings_true:kbucket://b5ecdf1474c5/datasets/synth_datasets/datasets/synth_tetrode_30min/firings_true.mda firings:/home/magland/src/mountainsort_examples/spikeforest/output/synth_tetrode_30min--ironclust/firings.mda -o json_out:/home/magland/src/mountainsort_examples/spikeforest/output/synth_tetrode_30min--ironclust/validation/compare_ground_truth.json -p  --lari_out=tmp.ephys.compare_ground_truth.lari_out.lPlHkaLkVE.json\n",
      "JOBS: pending:0 running:2 finished:1\n",
      "JOBS: pending:0 running:1 finished:2\n",
      "JOBS: pending:0 running:0 finished:3\n",
      "Finished pipeline.\n"
     ]
    }
   ],
   "source": [
    "#######################################\n",
    "# RUN THE PIPELINE\n",
    "#######################################\n",
    "\n",
    "for run in runs:\n",
    "    mlp.initPipeline()\n",
    "    handle_run(run)\n",
    "    mlp.runPipeline()"
   ]
  },
  {
   "cell_type": "code",
   "execution_count": 13,
   "metadata": {},
   "outputs": [
    {
     "data": {
      "application/vdom.v1+json": {
       "attributes": {},
       "children": "ms4_thr3 : synth_tetrode_30min",
       "tagName": "h3"
      },
      "text/plain": [
       "<h3 />"
      ]
     },
     "metadata": {},
     "output_type": "display_data"
    },
    {
     "data": {
      "application/vdom.v1+json": {
       "attributes": {
        "href": "https://ephys-viz.herokuapp.com/?view=dataset&dataset=kbucket://b5ecdf1474c5/datasets/synth_datasets/datasets/synth_tetrode_30min",
        "target": "_blank"
       },
       "children": "Dataset",
       "tagName": "a"
      },
      "text/plain": [
       "<a />"
      ]
     },
     "metadata": {},
     "output_type": "display_data"
    },
    {
     "data": {
      "application/vdom.v1+json": {
       "attributes": {
        "href": "https://ephys-viz.herokuapp.com/?view=dataset&dataset=kbucket://b5ecdf1474c5/datasets/synth_datasets/datasets/synth_tetrode_30min&firings=sha1://9d06ce61129d528b6a5ca752db30405b4d982bf1",
        "target": "_blank"
       },
       "children": "Sorting result",
       "tagName": "a"
      },
      "text/plain": [
       "<a />"
      ]
     },
     "metadata": {},
     "output_type": "display_data"
    },
    {
     "data": {
      "application/vdom.v1+json": {
       "attributes": {
        "href": "https://ephys-viz.herokuapp.com/?view=templates&templates=sha1://787466135ca30fa2a96f0a40dce96735bc610ed9",
        "target": "_blank"
       },
       "children": "Templates",
       "tagName": "a"
      },
      "text/plain": [
       "<a />"
      ]
     },
     "metadata": {},
     "output_type": "display_data"
    },
    {
     "data": {
      "application/vdom.v1+json": {
       "attributes": {
        "href": "https://ephys-viz.herokuapp.com/?view=sort_comparison&comparison=sha1://2d4ee2f67a86ee823831b6fcff69e72a9dc03014",
        "target": "_blank"
       },
       "children": "Comparison with ground truth",
       "tagName": "a"
      },
      "text/plain": [
       "<a />"
      ]
     },
     "metadata": {},
     "output_type": "display_data"
    },
    {
     "data": {
      "application/vdom.v1+json": {
       "attributes": {},
       "children": "ms4_thr4 : synth_tetrode_30min",
       "tagName": "h3"
      },
      "text/plain": [
       "<h3 />"
      ]
     },
     "metadata": {},
     "output_type": "display_data"
    },
    {
     "data": {
      "application/vdom.v1+json": {
       "attributes": {
        "href": "https://ephys-viz.herokuapp.com/?view=dataset&dataset=kbucket://b5ecdf1474c5/datasets/synth_datasets/datasets/synth_tetrode_30min",
        "target": "_blank"
       },
       "children": "Dataset",
       "tagName": "a"
      },
      "text/plain": [
       "<a />"
      ]
     },
     "metadata": {},
     "output_type": "display_data"
    },
    {
     "data": {
      "application/vdom.v1+json": {
       "attributes": {
        "href": "https://ephys-viz.herokuapp.com/?view=dataset&dataset=kbucket://b5ecdf1474c5/datasets/synth_datasets/datasets/synth_tetrode_30min&firings=sha1://c9133afe68b1356c517bcc4e67dc39fd26e020fe",
        "target": "_blank"
       },
       "children": "Sorting result",
       "tagName": "a"
      },
      "text/plain": [
       "<a />"
      ]
     },
     "metadata": {},
     "output_type": "display_data"
    },
    {
     "data": {
      "application/vdom.v1+json": {
       "attributes": {
        "href": "https://ephys-viz.herokuapp.com/?view=templates&templates=sha1://059b34eb075f8d0e2ea8a02eada352782772d561",
        "target": "_blank"
       },
       "children": "Templates",
       "tagName": "a"
      },
      "text/plain": [
       "<a />"
      ]
     },
     "metadata": {},
     "output_type": "display_data"
    },
    {
     "data": {
      "application/vdom.v1+json": {
       "attributes": {
        "href": "https://ephys-viz.herokuapp.com/?view=sort_comparison&comparison=sha1://1ec2780fb0e288e8bffb122e984a5b9ad8a848d9",
        "target": "_blank"
       },
       "children": "Comparison with ground truth",
       "tagName": "a"
      },
      "text/plain": [
       "<a />"
      ]
     },
     "metadata": {},
     "output_type": "display_data"
    },
    {
     "data": {
      "application/vdom.v1+json": {
       "attributes": {},
       "children": "ironclust : synth_tetrode_30min",
       "tagName": "h3"
      },
      "text/plain": [
       "<h3 />"
      ]
     },
     "metadata": {},
     "output_type": "display_data"
    },
    {
     "data": {
      "application/vdom.v1+json": {
       "attributes": {
        "href": "https://ephys-viz.herokuapp.com/?view=dataset&dataset=kbucket://b5ecdf1474c5/datasets/synth_datasets/datasets/synth_tetrode_30min",
        "target": "_blank"
       },
       "children": "Dataset",
       "tagName": "a"
      },
      "text/plain": [
       "<a />"
      ]
     },
     "metadata": {},
     "output_type": "display_data"
    },
    {
     "data": {
      "application/vdom.v1+json": {
       "attributes": {
        "href": "https://ephys-viz.herokuapp.com/?view=dataset&dataset=kbucket://b5ecdf1474c5/datasets/synth_datasets/datasets/synth_tetrode_30min&firings=sha1://6bc44359842b3d305aa1e0825c4a83cfe998d6fd",
        "target": "_blank"
       },
       "children": "Sorting result",
       "tagName": "a"
      },
      "text/plain": [
       "<a />"
      ]
     },
     "metadata": {},
     "output_type": "display_data"
    },
    {
     "data": {
      "application/vdom.v1+json": {
       "attributes": {
        "href": "https://ephys-viz.herokuapp.com/?view=templates&templates=sha1://c712e93f31455cb1cf2f8d381c4bdfa91367d026",
        "target": "_blank"
       },
       "children": "Templates",
       "tagName": "a"
      },
      "text/plain": [
       "<a />"
      ]
     },
     "metadata": {},
     "output_type": "display_data"
    },
    {
     "data": {
      "application/vdom.v1+json": {
       "attributes": {
        "href": "https://ephys-viz.herokuapp.com/?view=sort_comparison&comparison=sha1://da39a3ee5e6b4b0d3255bfef95601890afd80709",
        "target": "_blank"
       },
       "children": "Comparison with ground truth",
       "tagName": "a"
      },
      "text/plain": [
       "<a />"
      ]
     },
     "metadata": {},
     "output_type": "display_data"
    }
   ],
   "source": [
    "import vdom\n",
    "\n",
    "import json\n",
    "import subprocess\n",
    "def loadPrvObject(fname):\n",
    "    if not os.path.isfile(fname):\n",
    "        if not fname.endswith('.prv'):\n",
    "            if os.path.isfile(fname+'.prv'):\n",
    "                fname=fname+'.prv'\n",
    "            else:\n",
    "                raise Exception('File not found: {}'.format(fname))\n",
    "        else:\n",
    "            raise Exception('File not found: {}'.format(fname))\n",
    "    if fname.endswith('.prv'):\n",
    "        with open(fname) as f:\n",
    "             return json.load(f)\n",
    "    else:\n",
    "        str=subprocess.check_output(['ml-prv-stat', fname]).decode('utf-8').strip()\n",
    "        return json.loads(str)\n",
    "\n",
    "def kbpath(fname):\n",
    "    obj=loadPrvObject(fname)\n",
    "    return 'sha1://'+obj['original_checksum']\n",
    "    \n",
    "def show_result(run):\n",
    "    DS=run['dataset']\n",
    "    ALG=run['alg']\n",
    "    run_title=ALG['name']+' : '+DS['id']\n",
    "    dsdir=DS['raw_path']\n",
    "    dsid=DS['id']\n",
    "    algname=ALG['name']\n",
    "    output_dir=output_base_dir+'/'+dsid+'--'+algname\n",
    "    \n",
    "    display(vdom.h3(run_title))\n",
    "    \n",
    "    url='https://ephys-viz.herokuapp.com/?view=dataset&dataset={}'.format(dsdir)\n",
    "    display(vdom.a('Dataset',href=url,target='_blank'))\n",
    "    \n",
    "    url='https://ephys-viz.herokuapp.com/?view=dataset&dataset={}&firings={}'.format(dsdir,kbpath(output_dir+'/firings.mda'))\n",
    "    display(vdom.a('Sorting result',href=url,target='_blank'))\n",
    "    \n",
    "    url='https://ephys-viz.herokuapp.com/?view=templates&templates={}'.format(kbpath(output_dir+'/summary/templates.mda'))\n",
    "    display(vdom.a('Templates',href=url,target='_blank'))\n",
    "    \n",
    "    url='https://ephys-viz.herokuapp.com/?view=sort_comparison&comparison={}'.format(kbpath(output_dir+'/validation/compare_ground_truth.json'))\n",
    "    display(vdom.a('Comparison with ground truth',href=url,target='_blank'))\n",
    "    \n",
    "for run in runs:\n",
    "    show_result(run)"
   ]
  },
  {
   "cell_type": "code",
   "execution_count": null,
   "metadata": {},
   "outputs": [],
   "source": []
  }
 ],
 "metadata": {
  "kernelspec": {
   "display_name": "Python 3",
   "language": "python",
   "name": "python3"
  },
  "language_info": {
   "codemirror_mode": {
    "name": "ipython",
    "version": 3
   },
   "file_extension": ".py",
   "mimetype": "text/x-python",
   "name": "python",
   "nbconvert_exporter": "python",
   "pygments_lexer": "ipython3",
   "version": "3.5.2"
  }
 },
 "nbformat": 4,
 "nbformat_minor": 2
}
