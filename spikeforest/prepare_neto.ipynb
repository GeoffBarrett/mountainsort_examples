{
 "cells": [
  {
   "cell_type": "code",
   "execution_count": null,
   "metadata": {},
   "outputs": [],
   "source": [
    "#######################################\n",
    "# Auto-reload development imports\n",
    "#######################################\n",
    "\n",
    "%load_ext autoreload\n",
    "%autoreload 2"
   ]
  },
  {
   "cell_type": "code",
   "execution_count": null,
   "metadata": {},
   "outputs": [],
   "source": [
    "#######################################\n",
    "#imports\n",
    "#######################################\n",
    "\n",
    "import os, sys\n",
    "from mountainlab_pytools import mlproc as mlp\n",
    "from jp_ephys_viz import ephys_viz_v1"
   ]
  },
  {
   "cell_type": "code",
   "execution_count": null,
   "metadata": {},
   "outputs": [],
   "source": [
    "dirname=os.getcwd()+'/download/NETO/2014_11_25_Pair_3_0'\n",
    "bin_fname='amplifier2014-11-25T23_00_08.bin'\n",
    "output_dir=os.getcwd()+'/datasets/neto_32ch_1'"
   ]
  },
  {
   "cell_type": "code",
   "execution_count": null,
   "metadata": {},
   "outputs": [],
   "source": [
    "#######################################\n",
    "# Create output directory\n",
    "#######################################\n",
    "\n",
    "datasets_dir=os.getcwd()+'/datasets'\n",
    "if not os.path.exists(output_dir):\n",
    "    print('Creating directory: {}'.format(output_dir))\n",
    "    os.mkdir(output_dir)\n",
    "else:\n",
    "    print('Directory already exists: {}'.format(output_dir))"
   ]
  },
  {
   "cell_type": "code",
   "execution_count": null,
   "metadata": {},
   "outputs": [],
   "source": [
    "# ephys.convert_array\n",
    "# Convert a multi-dimensional array between various formats ('.mda', '.npy', '.dat') based on the file extensions of the input/output files\n",
    "# \n",
    "# INPUTS\n",
    "#   input -- Path of input array file (can be repeated for concatenation).\n",
    "# \n",
    "# OUTPUTS\n",
    "#   output -- Path of the output array file.\n",
    "# \n",
    "# PARAMETERS\n",
    "#   format -- (optional) The format for the input array (mda, npy, dat), or determined from the file extension if empty\n",
    "#   format_out -- (optional) The format for the output input array (mda, npy, dat), or determined from the file extension if empty\n",
    "#   dimensions -- (optional) Comma-separated list of dimensions (shape). If empty, it is auto-determined, if possible, by the input array. If second dim is -1 then it will be extrapolated from file size / first dim.\n",
    "#   dtype -- (optional) The data format for the input array. Choices: int8, int16, int32, uint16, uint32, float32, float64 (possibly float16 in the future).\n",
    "#   dtype_out -- (optional) The data format for the output array. If empty, the dtype for the input array is used.\n",
    "#   channels -- (optional) Comma-seperated list of channels to keep in output. Zero-based indexing. Only works for .dat to .mda conversions.\n",
    "\n",
    "def convert_array(input_fname,output_fname,*,num_channels,dtype):\n",
    "    mlp.addProcess(\n",
    "        'ephys.convert_array',\n",
    "        dict(\n",
    "            input=input_fname\n",
    "        ),\n",
    "        dict(\n",
    "            output=output_fname\n",
    "        ),\n",
    "        dict(\n",
    "            dimensions='{},-1'.format(num_channels),\n",
    "            dtype=dtype\n",
    "        ),\n",
    "        dict(\n",
    "        )\n",
    "    )"
   ]
  },
  {
   "cell_type": "code",
   "execution_count": null,
   "metadata": {},
   "outputs": [],
   "source": [
    "def bandpass_filter(input_fname,output_fname,*,freq_min,freq_max,samplerate):\n",
    "    mlp.addProcess(\n",
    "        'ephys.bandpass_filter',\n",
    "        dict(\n",
    "            timeseries=input_fname\n",
    "        ),\n",
    "        dict(\n",
    "            timeseries_out=output_fname\n",
    "        ),\n",
    "        dict(\n",
    "            freq_min=freq_min,\n",
    "            freq_max=freq_max,\n",
    "            samplerate=samplerate\n",
    "        ),\n",
    "        dict(\n",
    "        )\n",
    "    )"
   ]
  },
  {
   "cell_type": "code",
   "execution_count": null,
   "metadata": {},
   "outputs": [],
   "source": [
    "P=mlp.initPipeline()"
   ]
  },
  {
   "cell_type": "code",
   "execution_count": null,
   "metadata": {},
   "outputs": [],
   "source": [
    "with P:\n",
    "    raw_fname=output_dir+'/raw0.mda'\n",
    "    convert_array(dirname+'/'+bin_fname,raw_fname,num_channels=32,dtype='uint16')\n",
    "    bandpass_filter(raw_fname,output_dir+'/raw.mda',freq_min=300,freq_max=6000,samplerate=30000)\n",
    "    import json\n",
    "    params=dict(\n",
    "        samplerate=30000,\n",
    "        spike_sign=-1\n",
    "    )\n",
    "    with open(output_dir+'/params.json','w') as f:\n",
    "        json.dump(params,f)"
   ]
  },
  {
   "cell_type": "code",
   "execution_count": null,
   "metadata": {},
   "outputs": [],
   "source": [
    "def view_dataset(dsdir,external_link=False,height=450,dataset_id='',firings=''):\n",
    "    params={'view':'dataset','dataset':dsdir}\n",
    "    if firings:\n",
    "        params['firings']=mlp.kbucketPath(firings)\n",
    "    ephys_viz_v1(params=params,title='Dataset: {}'.format(dataset_id),external_link=external_link,height=height)"
   ]
  },
  {
   "cell_type": "code",
   "execution_count": null,
   "metadata": {},
   "outputs": [],
   "source": [
    "dsdir='kbucket://d97debc4bea2/spikeforest/datasets/neto_32ch_1'\n",
    "view_dataset(dsdir,firings=dsdir+'/firings_true.mda',external_link=False)"
   ]
  },
  {
   "cell_type": "code",
   "execution_count": null,
   "metadata": {},
   "outputs": [],
   "source": []
  }
 ],
 "metadata": {
  "kernelspec": {
   "display_name": "Python 3",
   "language": "python",
   "name": "python3"
  },
  "language_info": {
   "codemirror_mode": {
    "name": "ipython",
    "version": 3
   },
   "file_extension": ".py",
   "mimetype": "text/x-python",
   "name": "python",
   "nbconvert_exporter": "python",
   "pygments_lexer": "ipython3",
   "version": "3.6.6"
  }
 },
 "nbformat": 4,
 "nbformat_minor": 2
}
