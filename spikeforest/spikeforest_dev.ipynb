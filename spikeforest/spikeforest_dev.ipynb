{
 "cells": [
  {
   "cell_type": "code",
   "execution_count": 1,
   "metadata": {},
   "outputs": [],
   "source": [
    "#######################################\n",
    "# Auto-reload development imports\n",
    "#######################################\n",
    "\n",
    "%load_ext autoreload\n",
    "%autoreload 2"
   ]
  },
  {
   "cell_type": "code",
   "execution_count": 2,
   "metadata": {},
   "outputs": [],
   "source": [
    "#######################################\n",
    "#imports\n",
    "#######################################\n",
    "\n",
    "import os, sys\n",
    "dir0 = os.path.split(os.getcwd())[0]\n",
    "if dir0 not in sys.path:\n",
    "    sys.path.append(dir0)\n",
    "import mlproc_dev as mlp"
   ]
  },
  {
   "cell_type": "code",
   "execution_count": 3,
   "metadata": {},
   "outputs": [
    {
     "name": "stdout",
     "output_type": "stream",
     "text": [
      "Enter processing passcode for lari node 133898b2b079\n"
     ]
    }
   ],
   "source": [
    "#######################################\n",
    "# LARI login\n",
    "#######################################\n",
    "\n",
    "#lari_id='fdb573a66f50' ## lari_ccblin008\n",
    "#lari_id='19b775bb238f' ## lari_g5ub\n",
    "lari_id='133898b2b079' ## lari_jm\n",
    "#lari_id='cb48a51bf9e5' ## lari_dub\n",
    "#lari_id=''\n",
    "\n",
    "mlp.lariLogin(lari_id,lari_passcode=None)"
   ]
  },
  {
   "cell_type": "code",
   "execution_count": 4,
   "metadata": {},
   "outputs": [],
   "source": [
    "#######################################\n",
    "# Import sorting pipelines\n",
    "#######################################\n",
    "\n",
    "from mountainsort4_v1_dev import sort_dataset as ms4_sort_dataset\n",
    "from summarize_sorting_results_dev import summarize_sorting_results"
   ]
  },
  {
   "cell_type": "code",
   "execution_count": 5,
   "metadata": {},
   "outputs": [
    {
     "name": "stdout",
     "output_type": "stream",
     "text": [
      "Directory already exists: /home/magland/src/mountainsort_examples/spikeforest/output\n"
     ]
    }
   ],
   "source": [
    "#######################################\n",
    "# Create output directory\n",
    "#######################################\n",
    "\n",
    "output_base_dir=os.getcwd()+'/output'\n",
    "#import shutil\n",
    "#if os.path.exists(output_base_dir):\n",
    "#    shutil.rmtree(output_base_dir)\n",
    "if not os.path.exists(output_base_dir):\n",
    "    print('Creating directory: {}'.format(output_base_dir))\n",
    "    os.mkdir(output_base_dir)\n",
    "else:\n",
    "    print('Directory already exists: {}'.format(output_base_dir))"
   ]
  },
  {
   "cell_type": "code",
   "execution_count": 6,
   "metadata": {},
   "outputs": [
    {
     "name": "stdout",
     "output_type": "stream",
     "text": [
      "Number of datasets: 2\n"
     ]
    }
   ],
   "source": [
    "#######################################\n",
    "# Set up datasets\n",
    "#######################################\n",
    "\n",
    "datasets=[]\n",
    "datasets.append({\n",
    "    \"id\":\"synth_tetrode_30min\",\n",
    "    \"raw_path\":\"kbucket://b5ecdf1474c5/datasets/synth_datasets/datasets/synth_tetrode_30min\"\n",
    "});\n",
    "datasets.append({\n",
    "    \"id\":\"synth_tetrode_120min\",\n",
    "    \"raw_path\":\"kbucket://b5ecdf1474c5/datasets/synth_datasets/datasets/synth_tetrode_120min\"\n",
    "});\n",
    "#datasets.append({\n",
    "#    \"id\":\"synth_16ch_30min\",\n",
    "#    \"raw_path\":\"kbucket://b5ecdf1474c5/datasets/synth_datasets/datasets/synth_16ch_30min\"\n",
    "#});\n",
    "\n",
    "#datasets=[datasets[0]]\n",
    "\n",
    "print('Number of datasets: {}'.format(len(datasets)))"
   ]
  },
  {
   "cell_type": "code",
   "execution_count": 7,
   "metadata": {},
   "outputs": [
    {
     "name": "stdout",
     "output_type": "stream",
     "text": [
      "Number of algorithms: 2\n"
     ]
    }
   ],
   "source": [
    "#######################################\n",
    "# Set up algorithms\n",
    "#######################################\n",
    "\n",
    "verbose=''\n",
    "\n",
    "def ms4_thr3(dataset_dir,output_dir):\n",
    "    ms4_sort_dataset(\n",
    "        dataset_dir=dataset_dir,\n",
    "        output_dir=output_dir,\n",
    "        adjacency_radius=-1,\n",
    "        detect_threshold=3,\n",
    "        opts={'verbose':verbose}\n",
    "    )\n",
    "    \n",
    "def ms4_thr4(dataset_dir,output_dir):\n",
    "    ms4_sort_dataset(\n",
    "        dataset_dir=dataset_dir,\n",
    "        output_dir=output_dir,\n",
    "        adjacency_radius=-1,\n",
    "        detect_threshold=4,\n",
    "        opts={'verbose':verbose}\n",
    "    )\n",
    "\n",
    "algs=[]\n",
    "algs.append({\n",
    "    \"name\":\"ms4_thr3\",\n",
    "    \"run\":ms4_thr3\n",
    "})\n",
    "algs.append({\n",
    "    \"name\":\"ms4_thr4\",\n",
    "    \"run\":ms4_thr4\n",
    "})\n",
    "\n",
    "print('Number of algorithms: {}'.format(len(algs)))"
   ]
  },
  {
   "cell_type": "code",
   "execution_count": 8,
   "metadata": {},
   "outputs": [
    {
     "name": "stdout",
     "output_type": "stream",
     "text": [
      "Number of runs: 1\n"
     ]
    }
   ],
   "source": [
    "#######################################\n",
    "# Collect runs (algorithm/dataset pairs)\n",
    "#######################################\n",
    "\n",
    "runs=[]\n",
    "for i_ds in range(len(datasets)):\n",
    "    for i_alg in range(len(algs)):\n",
    "        runs.append({\"dataset\":datasets[i_ds],\"alg\":algs[i_alg]})\n",
    "runs=[runs[0]]\n",
    "\n",
    "print('Number of runs: {}'.format(len(runs)))"
   ]
  },
  {
   "cell_type": "code",
   "execution_count": 9,
   "metadata": {},
   "outputs": [],
   "source": [
    "#######################################\n",
    "# Define the pipeline for the run\n",
    "#######################################\n",
    "\n",
    "def handle_run(run):\n",
    "    DS=run['dataset']\n",
    "    ALG=run['alg']\n",
    "    print(':::: Applying '+ALG['name']+' to '+DS['id'])\n",
    "    dsdir=DS['raw_path']\n",
    "    dsid=DS['id']\n",
    "    algname=ALG['name']\n",
    "    output_dir=output_base_dir+'/'+dsid+'--'+algname\n",
    "    ALG['run'](\n",
    "        dataset_dir=dsdir,\n",
    "        output_dir=output_dir\n",
    "    )\n",
    "    #summarize_sorting_results(\n",
    "    #    sorting_output_dir=output_dir,\n",
    "    #    output_dir=output_dir+'/summary',\n",
    "    #    opts={'verbose':verbose}\n",
    "    #)"
   ]
  },
  {
   "cell_type": "code",
   "execution_count": 10,
   "metadata": {},
   "outputs": [
    {
     "name": "stdout",
     "output_type": "stream",
     "text": [
      ":::: Applying ms4_thr3 to synth_tetrode_30min\n"
     ]
    },
    {
     "data": {
      "application/vnd.jupyter.widget-view+json": {
       "model_id": "520926ef2ce642fa95f67f2730b2b088",
       "version_major": 2,
       "version_minor": 0
      },
      "text/plain": [
       "Output()"
      ]
     },
     "metadata": {},
     "output_type": "display_data"
    },
    {
     "data": {
      "application/vnd.jupyter.widget-view+json": {
       "model_id": "e99c40e9c6bd448a943b072b60adf7b7",
       "version_major": 2,
       "version_minor": 0
      },
      "text/plain": [
       "Output()"
      ]
     },
     "metadata": {},
     "output_type": "display_data"
    },
    {
     "data": {
      "application/vnd.jupyter.widget-view+json": {
       "model_id": "451c3e06ee904078afff3ed7d1a99981",
       "version_major": 2,
       "version_minor": 0
      },
      "text/plain": [
       "Output()"
      ]
     },
     "metadata": {},
     "output_type": "display_data"
    },
    {
     "data": {
      "application/vnd.jupyter.widget-view+json": {
       "model_id": "1f2c0e20df974d9191645df6ce2a9151",
       "version_major": 2,
       "version_minor": 0
      },
      "text/plain": [
       "Output()"
      ]
     },
     "metadata": {},
     "output_type": "display_data"
    },
    {
     "data": {
      "application/vnd.jupyter.widget-view+json": {
       "model_id": "b175f643db364629a4bd8f1f292d795b",
       "version_major": 2,
       "version_minor": 0
      },
      "text/plain": [
       "Output()"
      ]
     },
     "metadata": {},
     "output_type": "display_data"
    },
    {
     "data": {
      "application/vnd.jupyter.widget-view+json": {
       "model_id": "01d81b202e0642049dc6b03d4289916c",
       "version_major": 2,
       "version_minor": 0
      },
      "text/plain": [
       "Output()"
      ]
     },
     "metadata": {},
     "output_type": "display_data"
    },
    {
     "data": {
      "application/vnd.jupyter.widget-view+json": {
       "model_id": "f684861828074e559fb620c01a3a89a7",
       "version_major": 2,
       "version_minor": 0
      },
      "text/plain": [
       "Output()"
      ]
     },
     "metadata": {},
     "output_type": "display_data"
    },
    {
     "data": {
      "application/vnd.jupyter.widget-view+json": {
       "model_id": "a38464ae16b644aab0388feacfdccd1d",
       "version_major": 2,
       "version_minor": 0
      },
      "text/plain": [
       "Output()"
      ]
     },
     "metadata": {},
     "output_type": "display_data"
    },
    {
     "name": "stdout",
     "output_type": "stream",
     "text": [
      "Running pipeline...\n",
      "Running: ml-run-process ephys.bandpass_filter -i timeseries:kbucket://b5ecdf1474c5/datasets/synth_datasets/datasets/synth_tetrode_30min/raw.mda -o timeseries_out:/home/magland/src/mountainsort_examples/spikeforest/output/synth_tetrode_30min--ms4_thr3/filt.mda.prv -p freq_min:300 samplerate:30000 freq_max:6000 --lari_out=tmp.ephys.bandpass_filter.lari_out.4m6HLAX9Gd.json --verbose=\n",
      "JOBS: pending:7 running:1 finished:0\n",
      "Running: ml-run-process ephys.whiten -i timeseries:/home/magland/src/mountainsort_examples/spikeforest/output/synth_tetrode_30min--ms4_thr3/filt.mda.prv -o timeseries_out:/home/magland/src/mountainsort_examples/spikeforest/output/synth_tetrode_30min--ms4_thr3/pre.mda.prv -p  --lari_out=tmp.ephys.whiten.lari_out.jl8tMGKOsh.json --verbose=\n",
      "JOBS: pending:6 running:1 finished:1\n",
      "Running: ml-run-process ms4alg.sort -i timeseries:/home/magland/src/mountainsort_examples/spikeforest/output/synth_tetrode_30min--ms4_thr3/pre.mda.prv geom:kbucket://b5ecdf1474c5/datasets/synth_datasets/datasets/synth_tetrode_30min/geom.csv -o firings_out:/home/magland/src/mountainsort_examples/spikeforest/output/synth_tetrode_30min--ms4_thr3/firings_uncurated.mda -p detect_sign:1 adjacency_radius:-1 detect_threshold:3 --lari_out=tmp.ms4alg.sort.lari_out.JdzugSndAk.json --verbose=\n",
      "JOBS: pending:5 running:1 finished:2\n",
      "Running: ml-run-process ms3.cluster_metrics -i timeseries:/home/magland/src/mountainsort_examples/spikeforest/output/synth_tetrode_30min--ms4_thr3/pre.mda.prv firings:/home/magland/src/mountainsort_examples/spikeforest/output/synth_tetrode_30min--ms4_thr3/firings_uncurated.mda -o cluster_metrics_out:tmp.ms3.cluster_metrics.cluster_metrics_out.nqA9wA9CtF.prv -p samplerate:30000 --lari_out=tmp.ms3.cluster_metrics.lari_out.Aw3cq8KN8l.json --verbose=\n",
      "Running: ml-run-process ms3.isolation_metrics -i timeseries:/home/magland/src/mountainsort_examples/spikeforest/output/synth_tetrode_30min--ms4_thr3/pre.mda.prv firings:/home/magland/src/mountainsort_examples/spikeforest/output/synth_tetrode_30min--ms4_thr3/firings_uncurated.mda -o metrics_out:tmp.ms3.isolation_metrics.metrics_out.R6OWXYqEyu.prv -p compute_bursting_parents:true --lari_out=tmp.ms3.isolation_metrics.lari_out.YxhsPeeWKI.json --verbose=\n",
      "JOBS: pending:3 running:2 finished:3\n",
      "JOBS: pending:3 running:1 finished:4\n",
      "Running: ml-run-process ms3.combine_cluster_metrics -i metrics_list:tmp.ms3.cluster_metrics.cluster_metrics_out.nqA9wA9CtF.prv metrics_list:tmp.ms3.isolation_metrics.metrics_out.R6OWXYqEyu.prv -o metrics_out:/home/magland/src/mountainsort_examples/spikeforest/output/synth_tetrode_30min--ms4_thr3/cluster_metrics.json -p  --lari_out=tmp.ms3.combine_cluster_metrics.lari_out.naubmuic0q.json --verbose=\n",
      "JOBS: pending:2 running:1 finished:5\n",
      "Running: ml-run-process ms4alg.create_label_map -i metrics:/home/magland/src/mountainsort_examples/spikeforest/output/synth_tetrode_30min--ms4_thr3/cluster_metrics.json -o label_map_out:tmp.ms4alg.create_label_map.label_map_out.U2TsMK0Pf8.prv -p  --lari_out=tmp.ms4alg.create_label_map.lari_out.DWik3FWYHg.json --verbose=\n",
      "JOBS: pending:1 running:1 finished:6\n",
      "Running: ml-run-process ms4alg.apply_label_map -i label_map:tmp.ms4alg.create_label_map.label_map_out.U2TsMK0Pf8.prv firings:/home/magland/src/mountainsort_examples/spikeforest/output/synth_tetrode_30min--ms4_thr3/firings_uncurated.mda -o firings_out:/home/magland/src/mountainsort_examples/spikeforest/output/synth_tetrode_30min--ms4_thr3/firings.mda -p  --lari_out=tmp.ms4alg.apply_label_map.lari_out.BubHbzsXsB.json --verbose=\n",
      "JOBS: pending:0 running:1 finished:7\n",
      "JOBS: pending:0 running:0 finished:8\n",
      "Finished pipeline.\n"
     ]
    }
   ],
   "source": [
    "#######################################\n",
    "# RUN THE PIPELINE\n",
    "#######################################\n",
    "\n",
    "mlp.initPipeline()\n",
    "for run in runs:\n",
    "    handle_run(run)\n",
    "mlp.runPipeline()"
   ]
  },
  {
   "cell_type": "code",
   "execution_count": 24,
   "metadata": {},
   "outputs": [
    {
     "data": {
      "application/vdom.v1+json": {
       "attributes": {},
       "children": "ms4_thr3 : synth_tetrode_30min",
       "tagName": "h3"
      },
      "text/plain": [
       "<h3 />"
      ]
     },
     "metadata": {},
     "output_type": "display_data"
    },
    {
     "data": {
      "application/vdom.v1+json": {
       "attributes": {
        "href": "https://ephys-viz.herokuapp.com/?dataset=kbucket://b5ecdf1474c5/datasets/synth_datasets/datasets/synth_tetrode_30min",
        "target": "_blank"
       },
       "children": "Dataset",
       "tagName": "a"
      },
      "text/plain": [
       "<a />"
      ]
     },
     "metadata": {},
     "output_type": "display_data"
    },
    {
     "data": {
      "application/vdom.v1+json": {
       "attributes": {
        "href": "https://ephys-viz.herokuapp.com/?dataset=kbucket://b5ecdf1474c5/datasets/synth_datasets/datasets/synth_tetrode_30min&firings=test",
        "target": "_blank"
       },
       "children": "Sorting result",
       "tagName": "a"
      },
      "text/plain": [
       "<a />"
      ]
     },
     "metadata": {},
     "output_type": "display_data"
    },
    {
     "data": {
      "application/vdom.v1+json": {
       "attributes": {},
       "children": "ms4_thr3 : synth_tetrode_30min",
       "tagName": "h3"
      },
      "text/plain": [
       "<h3 />"
      ]
     },
     "metadata": {},
     "output_type": "display_data"
    },
    {
     "data": {
      "application/vdom.v1+json": {
       "attributes": {
        "href": "https://ephys-viz.herokuapp.com/?dataset=kbucket://b5ecdf1474c5/datasets/synth_datasets/datasets/synth_tetrode_30min",
        "target": "_blank"
       },
       "children": "Dataset",
       "tagName": "a"
      },
      "text/plain": [
       "<a />"
      ]
     },
     "metadata": {},
     "output_type": "display_data"
    },
    {
     "data": {
      "application/vdom.v1+json": {
       "attributes": {
        "href": "https://ephys-viz.herokuapp.com/?dataset=kbucket://b5ecdf1474c5/datasets/synth_datasets/datasets/synth_tetrode_30min&firings=test",
        "target": "_blank"
       },
       "children": "Sorting result",
       "tagName": "a"
      },
      "text/plain": [
       "<a />"
      ]
     },
     "metadata": {},
     "output_type": "display_data"
    }
   ],
   "source": [
    "import vdom\n",
    "\n",
    "def show_result(run):\n",
    "    DS=run['dataset']\n",
    "    ALG=run['alg']\n",
    "    run_title=ALG['name']+' : '+DS['id']\n",
    "    dsdir=DS['raw_path']\n",
    "    dsid=DS['id']\n",
    "    algname=ALG['name']\n",
    "    output_dir=output_base_dir+'/'+dsid+'--'+algname\n",
    "    \n",
    "    display(vdom.h3(run_title))\n",
    "    \n",
    "    url='https://ephys-viz.herokuapp.com/?dataset={}'.format(dsdir)\n",
    "    display(vdom.a('Dataset',href=url,target='_blank'))\n",
    "    \n",
    "    url='https://ephys-viz.herokuapp.com/?dataset={}&firings={}'.format(dsdir,'test')\n",
    "    display(vdom.a('Sorting result',href=url,target='_blank'))\n",
    "    \n",
    "for i in range(2):\n",
    "    for run in runs:\n",
    "        show_result(run)"
   ]
  },
  {
   "cell_type": "code",
   "execution_count": null,
   "metadata": {},
   "outputs": [],
   "source": []
  }
 ],
 "metadata": {
  "kernelspec": {
   "display_name": "Python 3",
   "language": "python",
   "name": "python3"
  },
  "language_info": {
   "codemirror_mode": {
    "name": "ipython",
    "version": 3
   },
   "file_extension": ".py",
   "mimetype": "text/x-python",
   "name": "python",
   "nbconvert_exporter": "python",
   "pygments_lexer": "ipython3",
   "version": "3.5.2"
  }
 },
 "nbformat": 4,
 "nbformat_minor": 2
}
