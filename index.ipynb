{
 "cells": [
  {
   "cell_type": "code",
   "execution_count": 5,
   "metadata": {},
   "outputs": [
    {
     "name": "stdout",
     "output_type": "stream",
     "text": [
      "Enter processing passcode for lari node fdb573a66f50\n"
     ]
    }
   ],
   "source": [
    "import os, getpass\n",
    "lari_id='fdb573a66f50' ## lari_ccblin008\n",
    "#lari_id='cb48a51bf9e5' ## lari_dub\n",
    "#lari_id=''\n",
    "print('Enter processing passcode for lari node {}'.format(lari_id))\n",
    "lari_passcode=getpass.getpass()\n",
    "os.environ['LARI_ID']=lari_id\n",
    "os.environ['LARI_PASSCODE']=lari_passcode"
   ]
  },
  {
   "cell_type": "code",
   "execution_count": 9,
   "metadata": {},
   "outputs": [
    {
     "name": "stdout",
     "output_type": "stream",
     "text": [
      "RUNNING: ml-run-process ephys.bandpass_filter --inputs timeseries:kbucket://b5ecdf1474c5/datasets/synth_datasets/datasets/synth_tetrode_30min/raw.mda --parameters freq_max:6000 freq_min:300 samplerate:30000 --outputs timeseries_out:output/filt.mda.prv --verbose=minimal\n",
      "RUNNING: ml-run-process ephys.whiten --inputs timeseries:output/filt.mda.prv --parameters --outputs timeseries_out:output/pre.mda.prv --verbose=minimal\n",
      "RUNNING: ml-run-process ms4alg.sort --inputs geom:kbucket://b5ecdf1474c5/datasets/synth_datasets/datasets/synth_tetrode_30min/geom.csv timeseries:output/pre.mda.prv --parameters adjacency_radius:-1 detect_sign:1 detect_threshold:3 --outputs firings_out:output/firings.mda --verbose=minimal\n",
      "Output firings_out is too large to automatically download. Saving .prv file instead: output/firings.mda.prv\n",
      "RUNNING: ml-run-process ms3.cluster_metrics --inputs firings:output/firings.mda timeseries:output/pre.mda.prv --parameters samplerate:30000 --outputs cluster_metrics_out:/tmp/mountainlab-tmp/mountainlab/tmp_short_term/output_cluster_metrics_out_c2fdbc02c1895ed5197f0b337278fb363092df59.prv --verbose=minimal\n",
      "RUNNING: ml-run-process ms3.isolation_metrics --inputs firings:output/firings.mda timeseries:output/pre.mda.prv --parameters compute_bursting_parents:true --outputs metrics_out:/tmp/mountainlab-tmp/mountainlab/tmp_short_term/output_metrics_out_e602c4faadf29aeeea1913944686f169a69915fe.prv --verbose=minimal\n",
      "RUNNING: ml-run-process ms3.combine_cluster_metrics --inputs metrics_list:/tmp/mountainlab-tmp/mountainlab/tmp_short_term/output_cluster_metrics_out_c2fdbc02c1895ed5197f0b337278fb363092df59.prv metrics_list:/tmp/mountainlab-tmp/mountainlab/tmp_short_term/output_metrics_out_e602c4faadf29aeeea1913944686f169a69915fe.prv --parameters --outputs metrics_out:output/cluster_metrics.json --verbose=minimal\n",
      "RUNNING: ml-run-process ms4alg.create_label_map --inputs metrics:output/cluster_metrics.json --parameters --outputs label_map_out:/tmp/mountainlab-tmp/mountainlab/tmp_short_term/output_label_map_out_d364f199c75145846f0db7983b4b45ece2e7db06.prv --verbose=minimal\n",
      "RUNNING: ml-run-process ms4alg.apply_label_map --inputs firings:output/firings.mda label_map:/tmp/mountainlab-tmp/mountainlab/tmp_short_term/output_label_map_out_d364f199c75145846f0db7983b4b45ece2e7db06.prv --parameters --outputs firings_out:output/firings_curated.mda --verbose=minimal\n",
      "Output firings_out is too large to automatically download. Saving .prv file instead: output/firings_curated.mda.prv\n"
     ]
    }
   ],
   "source": [
    "from mountainsort4_v1 import sort_dataset\n",
    "dsdir='kbucket://b5ecdf1474c5/datasets/synth_datasets/datasets/synth_tetrode_30min'\n",
    "sort_dataset(dataset_dir=dsdir,output_dir='output',adjacency_radius=-1,detect_threshold=3,opts={'verbose':''})"
   ]
  },
  {
   "cell_type": "code",
   "execution_count": 10,
   "metadata": {},
   "outputs": [],
   "source": [
    "import json"
   ]
  },
  {
   "cell_type": "code",
   "execution_count": 11,
   "metadata": {},
   "outputs": [
    {
     "name": "stdout",
     "output_type": "stream",
     "text": [
      "Cluster 1\n",
      "{'bursting_parent': 0, 'dur_sec': 1799.2228666666665, 'firing_rate': 2.333229572486166, 'isolation': 1, 'noise_overlap': 0, 'num_events': 4198, 'overlap_cluster': 0, 'peak_amp': 24.588104248046875, 'peak_noise': 1.800920844078064, 'peak_snr': 13.653073275763065, 't1_sec': 0.1346, 't2_sec': 1799.3574666666666}\n",
      "\n",
      "Cluster 2\n",
      "{'bursting_parent': 0, 'dur_sec': 1799.6548333333333, 'firing_rate': 2.2843269297288398, 'isolation': 0.9894242068155111, 'noise_overlap': 0.01615746180963573, 'num_events': 4111, 'overlap_cluster': 6, 'peak_amp': 6.32673978805542, 'peak_noise': 1.1017693281173706, 'peak_snr': 5.742345177521076, 't1_sec': 0.1839, 't2_sec': 1799.8387333333333}\n",
      "\n",
      "Cluster 3\n",
      "{'bursting_parent': 0, 'dur_sec': 1795.4842333333333, 'firing_rate': 0.9802369563182092, 'isolation': 0.9970622796709753, 'noise_overlap': 0.14894242068155117, 'num_events': 1760, 'overlap_cluster': 22, 'peak_amp': 3.1799476146698, 'peak_noise': 1.1717890501022339, 'peak_snr': 2.7137543352127778, 't1_sec': 0.5066333333333334, 't2_sec': 1795.9908666666668}\n",
      "\n",
      "Cluster 4\n",
      "{'bursting_parent': 0, 'dur_sec': 1798.3691666666666, 'firing_rate': 2.3059781477940895, 'isolation': 0.9477085781433607, 'noise_overlap': 0.02291421856639253, 'num_events': 4147, 'overlap_cluster': 5, 'peak_amp': 6.909013271331787, 'peak_noise': 1.2636748552322388, 'peak_snr': 5.4673979170552105, 't1_sec': 0.7489666666666667, 't2_sec': 1799.1181333333334}\n",
      "\n",
      "Cluster 5\n",
      "{'bursting_parent': 0, 'dur_sec': 1797.1111, 'firing_rate': 2.190738235382331, 'isolation': 0.9477085781433607, 'noise_overlap': 0.012632197414806146, 'num_events': 3937, 'overlap_cluster': 4, 'peak_amp': 6.397868633270264, 'peak_noise': 1.0703355073928833, 'peak_snr': 5.977442203009926, 't1_sec': 0.8141333333333334, 't2_sec': 1797.9252333333334}\n",
      "\n",
      "Cluster 6\n",
      "{'bursting_parent': 0, 'dur_sec': 1793.6530333333333, 'firing_rate': 0.2954863566980095, 'isolation': 0.804641598119859, 'noise_overlap': 0.023207990599294903, 'num_events': 530, 'overlap_cluster': 9, 'peak_amp': 4.100908279418945, 'peak_noise': 1.6995793581008911, 'peak_snr': 2.4128960262269232, 't1_sec': 1.5691333333333333, 't2_sec': 1795.2221666666667}\n",
      "\n",
      "Cluster 7\n",
      "{'bursting_parent': 0, 'dur_sec': 1799.0774333333334, 'firing_rate': 2.1905671912620845, 'isolation': 0.9979435957696827, 'noise_overlap': 0.007344300822561656, 'num_events': 3941, 'overlap_cluster': 16, 'peak_amp': 6.424616813659668, 'peak_noise': 1.0783262252807617, 'peak_snr': 5.957952856044935, 't1_sec': 0.8559, 't2_sec': 1799.9333333333334}\n",
      "\n",
      "Cluster 8\n",
      "{'bursting_parent': 0, 'dur_sec': 1797.4614666666666, 'firing_rate': 2.3238328484148867, 'isolation': 0.9970622796709753, 'noise_overlap': 0.006756756756756799, 'num_events': 4177, 'overlap_cluster': 14, 'peak_amp': 7.695291996002197, 'peak_noise': 1.3744151592254639, 'peak_snr': 5.598957450628522, 't1_sec': 1.2730333333333332, 't2_sec': 1798.7345}\n",
      "\n",
      "Cluster 9\n",
      "{'bursting_parent': 0, 'dur_sec': 1797.6939, 'firing_rate': 1.8996559981652048, 'isolation': 0.804641598119859, 'noise_overlap': 0.011163337250293726, 'num_events': 3415, 'overlap_cluster': 6, 'peak_amp': 4.481152534484863, 'peak_noise': 1.0584323406219482, 'peak_snr': 4.233763805678577, 't1_sec': 1.8853666666666666, 't2_sec': 1799.5792666666666}\n",
      "\n",
      "Cluster 10\n",
      "{'bursting_parent': 0, 'dur_sec': 1798.6035333333334, 'firing_rate': 2.255082860024775, 'isolation': 0.9876615746180963, 'noise_overlap': 0.01380728554641597, 'num_events': 4056, 'overlap_cluster': 11, 'peak_amp': 9.183164596557617, 'peak_noise': 1.3052912950515747, 'peak_snr': 7.035337346821708, 't1_sec': 1.3040666666666667, 't2_sec': 1799.9076}\n",
      "\n",
      "Cluster 11\n",
      "{'bursting_parent': 0, 'dur_sec': 1798.6763333333333, 'firing_rate': 2.3050283829089873, 'isolation': 0.9876615746180963, 'noise_overlap': 0.004700352526439522, 'num_events': 4146, 'overlap_cluster': 10, 'peak_amp': 9.411940574645996, 'peak_noise': 1.311403512954712, 'peak_snr': 7.176998141052737, 't1_sec': 0.4546, 't2_sec': 1799.1309333333334}\n",
      "\n",
      "Cluster 12\n",
      "{'bursting_parent': 0, 'dur_sec': 1799.7622666666666, 'firing_rate': 3.619922542362447, 'isolation': 0.9926556991774383, 'noise_overlap': 0.28554641598119856, 'num_events': 6515, 'overlap_cluster': 13, 'peak_amp': 3.213569164276123, 'peak_noise': 1.1559518575668335, 'peak_snr': 2.7800198972303, 't1_sec': 0.021633333333333334, 't2_sec': 1799.7839}\n",
      "\n",
      "Cluster 13\n",
      "{'bursting_parent': 0, 'dur_sec': 1798.5891333333332, 'firing_rate': 2.316815954668469, 'isolation': 0.9926556991774383, 'noise_overlap': 0.012338425381903662, 'num_events': 4167, 'overlap_cluster': 12, 'peak_amp': 7.086918830871582, 'peak_noise': 1.351646065711975, 'peak_snr': 5.24317645769092, 't1_sec': 0.8004, 't2_sec': 1799.3895333333332}\n",
      "\n",
      "Cluster 14\n",
      "{'bursting_parent': 0, 'dur_sec': 1798.5891, 'firing_rate': 2.32404388528764, 'isolation': 0.9970622796709753, 'noise_overlap': 0.004406580493537038, 'num_events': 4180, 'overlap_cluster': 8, 'peak_amp': 15.686660766601562, 'peak_noise': 1.3254013061523438, 'peak_snr': 11.835404638418632, 't1_sec': 0.38526666666666665, 't2_sec': 1798.9743666666666}\n",
      "\n",
      "Cluster 15\n",
      "{'bursting_parent': 0, 'dur_sec': 1797.9878333333334, 'firing_rate': 2.3014616246476267, 'isolation': 0.9985311398354877, 'noise_overlap': 0.004994124559342006, 'num_events': 4138, 'overlap_cluster': 17, 'peak_amp': 11.858736991882324, 'peak_noise': 1.180524230003357, 'peak_snr': 10.045314353140048, 't1_sec': 0.71, 't2_sec': 1798.6978333333334}\n",
      "\n",
      "Cluster 16\n",
      "{'bursting_parent': 0, 'dur_sec': 1799.5606333333333, 'firing_rate': 2.287224961337322, 'isolation': 0.9979435957696827, 'noise_overlap': 0.007050528789659172, 'num_events': 4116, 'overlap_cluster': 7, 'peak_amp': 10.45840835571289, 'peak_noise': 1.4173890352249146, 'peak_snr': 7.3786434745865845, 't1_sec': 0.4232666666666667, 't2_sec': 1799.9839}\n",
      "\n",
      "Cluster 17\n",
      "{'bursting_parent': 0, 'dur_sec': 1799.7290666666668, 'firing_rate': 2.3036800798460924, 'isolation': 0.9985311398354877, 'noise_overlap': 0.004406580493537038, 'num_events': 4146, 'overlap_cluster': 15, 'peak_amp': 10.371274948120117, 'peak_noise': 1.2009369134902954, 'peak_snr': 8.635986479904238, 't1_sec': 0.11603333333333334, 't2_sec': 1799.8451}\n",
      "\n",
      "Cluster 18\n",
      "{'bursting_parent': 0, 'dur_sec': 1799.6505333333334, 'firing_rate': 2.2559935525260126, 'isolation': 0.9947121034077556, 'noise_overlap': 0.01615746180963573, 'num_events': 4060, 'overlap_cluster': 20, 'peak_amp': 4.851963520050049, 'peak_noise': 1.1584306955337524, 'peak_snr': 4.188393434977552, 't1_sec': 0.26066666666666666, 't2_sec': 1799.9112}\n",
      "\n",
      "Cluster 19\n",
      "{'bursting_parent': 0, 'dur_sec': 1798.1094333333333, 'firing_rate': 2.3541392540012813, 'isolation': 0.999412455934195, 'noise_overlap': 0.001762632197414793, 'num_events': 4233, 'overlap_cluster': 3, 'peak_amp': 16.176864624023438, 'peak_noise': 1.3087586164474487, 'peak_snr': 12.360464657672797, 't1_sec': 1.6330666666666667, 't2_sec': 1799.7425}\n",
      "\n",
      "Cluster 20\n",
      "{'bursting_parent': 0, 'dur_sec': 1798.9507666666668, 'firing_rate': 1.3930342321949407, 'isolation': 0.9947121034077556, 'noise_overlap': 0.1551116333725029, 'num_events': 2506, 'overlap_cluster': 18, 'peak_amp': 3.192667007446289, 'peak_noise': 1.134283423423767, 'peak_snr': 2.8146995199924665, 't1_sec': 0.24193333333333333, 't2_sec': 1799.1927}\n",
      "\n",
      "Cluster 21\n",
      "{'bursting_parent': 0, 'dur_sec': 1799.2371333333333, 'firing_rate': 2.3004193962648687, 'isolation': 0.9976498237367802, 'noise_overlap': 0.002056404230317277, 'num_events': 4139, 'overlap_cluster': 23, 'peak_amp': 7.252118110656738, 'peak_noise': 1.223188042640686, 'peak_snr': 5.928866092412467, 't1_sec': 0.0291, 't2_sec': 1799.2662333333333}\n",
      "\n",
      "Cluster 22\n",
      "{'bursting_parent': 0, 'dur_sec': 1799.4940333333334, 'firing_rate': 2.311205218222359, 'isolation': 0.9970622796709753, 'noise_overlap': 0.008813160987074076, 'num_events': 4159, 'overlap_cluster': 3, 'peak_amp': 8.27178955078125, 'peak_noise': 1.2109663486480713, 'peak_snr': 6.830734446102417, 't1_sec': 0.0424, 't2_sec': 1799.5364333333334}\n",
      "\n",
      "Cluster 23\n",
      "{'bursting_parent': 0, 'dur_sec': 1798.4893, 'firing_rate': 2.2891434494494907, 'isolation': 0.9976498237367802, 'noise_overlap': 0.004112808460634554, 'num_events': 4117, 'overlap_cluster': 21, 'peak_amp': 9.742949485778809, 'peak_noise': 1.0931745767593384, 'peak_snr': 8.91252842218605, 't1_sec': 1.0563, 't2_sec': 1799.5456}\n",
      "\n",
      "Cluster 24\n",
      "{'bursting_parent': 0, 'dur_sec': 1799.6916, 'firing_rate': 2.350402702329666, 'isolation': 0.999412455934195, 'noise_overlap': 0.006462984723854315, 'num_events': 4230, 'overlap_cluster': 8, 'peak_amp': 15.991722106933594, 'peak_noise': 1.7539740800857544, 'peak_snr': 9.117422137818442, 't1_sec': 0.11423333333333334, 't2_sec': 1799.8058333333333}\n",
      "\n",
      "Cluster 25\n",
      "{'bursting_parent': 0, 'dur_sec': 1799.9342666666666, 'firing_rate': 5.447976729816874, 'isolation': 0.9964747356051704, 'noise_overlap': 0.282021151586369, 'num_events': 9806, 'overlap_cluster': 18, 'peak_amp': 3.227778673171997, 'peak_noise': 0.963451087474823, 'peak_snr': 3.350225782226174, 't1_sec': 0.0646, 't2_sec': 1799.9988666666666}\n",
      "\n"
     ]
    }
   ],
   "source": [
    "with open('output/cluster_metrics.json') as f:\n",
    "    cluster_metrics=json.load(f)\n",
    "clusters=cluster_metrics['clusters']\n",
    "for j in range(len(clusters)):\n",
    "    C=clusters[j]\n",
    "    print('Cluster {}'.format(C['label']))\n",
    "    print(C['metrics'])\n",
    "    print('')"
   ]
  },
  {
   "cell_type": "code",
   "execution_count": null,
   "metadata": {},
   "outputs": [],
   "source": []
  }
 ],
 "metadata": {
  "kernelspec": {
   "display_name": "Python 3",
   "language": "python",
   "name": "python3"
  },
  "language_info": {
   "codemirror_mode": {
    "name": "ipython",
    "version": 3
   },
   "file_extension": ".py",
   "mimetype": "text/x-python",
   "name": "python",
   "nbconvert_exporter": "python",
   "pygments_lexer": "ipython3",
   "version": "3.5.2"
  }
 },
 "nbformat": 4,
 "nbformat_minor": 2
}
