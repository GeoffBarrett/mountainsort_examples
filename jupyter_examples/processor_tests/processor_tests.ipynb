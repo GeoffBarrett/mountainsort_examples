{
 "cells": [
  {
   "cell_type": "markdown",
   "metadata": {},
   "source": [
    "## Processor tests\n",
    "\n",
    "Here we run some basic tests. Make sure you have MountainLab installed on the computer running this jupyter lab."
   ]
  },
  {
   "cell_type": "code",
   "execution_count": null,
   "metadata": {},
   "outputs": [],
   "source": [
    "#######################################\n",
    "# imports and initialization\n",
    "#######################################\n",
    "\n",
    "# For development purposes, reload imported modules when source changes\n",
    "%load_ext autoreload\n",
    "%autoreload 2\n",
    "\n",
    "# standard imports\n",
    "import os, sys, json\n",
    "import numpy as np\n",
    "from matplotlib import pyplot as plt\n",
    "\n",
    "# mountainlab imports\n",
    "from mountainlab_pytools import mlproc as mlp\n",
    "from mountainlab_pytools import mdaio\n",
    "\n",
    "# Imports from this directory\n",
    "dir0 = os.getcwd()\n",
    "if dir0 not in sys.path:\n",
    "    sys.path.append(dir0)\n",
    "from view_timeseries import view_timeseries"
   ]
  },
  {
   "cell_type": "code",
   "execution_count": null,
   "metadata": {},
   "outputs": [],
   "source": [
    "#######################################\n",
    "# Initialize the pipeline object\n",
    "#######################################\n",
    "Pipeline=mlp.initPipeline()"
   ]
  },
  {
   "cell_type": "code",
   "execution_count": null,
   "metadata": {},
   "outputs": [],
   "source": [
    "def test_mask_out_artifacts():\n",
    "    # start with random noise\n",
    "    X=np.random.normal(size=(4,3000))\n",
    "    # add a couple artifacts\n",
    "    X[:,120:160]=X[:,120:160]*10\n",
    "    X[:,1120:1160]=X[:,1120:1160]*10\n",
    "    # write the input\n",
    "    mdaio.writemda32(X,'test1.mda')\n",
    "    # view the input\n",
    "    view_timeseries('test1.mda',trange=[0,X.shape[1]])\n",
    "    # run the processor\n",
    "    mlp.addProcess(\n",
    "        'ephys.mask_out_artifacts',\n",
    "        dict(\n",
    "            timeseries='test1.mda'\n",
    "        ),\n",
    "        dict(\n",
    "            timeseries_out='test2.mda'\n",
    "        ),\n",
    "        dict(\n",
    "            chunk_size=20,\n",
    "            threshold=6\n",
    "        ),\n",
    "        {}\n",
    "    )\n",
    "    mlp.runPipeline()\n",
    "    # view the output\n",
    "    view_timeseries('test2.mda',trange=[0,X.shape[1]])"
   ]
  },
  {
   "cell_type": "code",
   "execution_count": null,
   "metadata": {},
   "outputs": [],
   "source": [
    "with Pipeline:\n",
    "    test_mask_out_artifacts()"
   ]
  },
  {
   "cell_type": "code",
   "execution_count": null,
   "metadata": {},
   "outputs": [],
   "source": []
  }
 ],
 "metadata": {
  "kernelspec": {
   "display_name": "Python 3",
   "language": "python",
   "name": "python3"
  },
  "language_info": {
   "codemirror_mode": {
    "name": "ipython",
    "version": 3
   },
   "file_extension": ".py",
   "mimetype": "text/x-python",
   "name": "python",
   "nbconvert_exporter": "python",
   "pygments_lexer": "ipython3",
   "version": "3.6.6"
  }
 },
 "nbformat": 4,
 "nbformat_minor": 2
}
