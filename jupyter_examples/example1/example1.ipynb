{
 "cells": [
  {
   "cell_type": "code",
   "execution_count": 1,
   "metadata": {},
   "outputs": [],
   "source": [
    "#######################################\n",
    "# Auto-reload development imports\n",
    "#######################################\n",
    "\n",
    "%load_ext autoreload\n",
    "%autoreload 2"
   ]
  },
  {
   "cell_type": "code",
   "execution_count": 2,
   "metadata": {},
   "outputs": [],
   "source": [
    "#######################################\n",
    "#imports\n",
    "#######################################\n",
    "\n",
    "import os, sys\n",
    "from mountainlab_pytools import mlproc as mlp\n",
    "from jp_ephys_viz import ephys_viz_v1"
   ]
  },
  {
   "cell_type": "code",
   "execution_count": 3,
   "metadata": {},
   "outputs": [],
   "source": [
    "def view_dataset(dsdir,external_link=False,height=450,dataset_id='',firings=''):\n",
    "    params={'view':'dataset','dataset':dsdir}\n",
    "    if firings:\n",
    "        params['firings']=mlp.kbucketPath(firings)\n",
    "    ephys_viz_v1(params=params,title='Dataset: {}'.format(dataset_id),external_link=external_link,height=height)"
   ]
  },
  {
   "cell_type": "code",
   "execution_count": 4,
   "metadata": {},
   "outputs": [
    {
     "data": {
      "application/vdom.v1+json": {
       "attributes": {},
       "children": "Dataset: synth_tetrode_30min",
       "tagName": "h3"
      },
      "text/plain": [
       "<h3 />"
      ]
     },
     "metadata": {},
     "output_type": "display_data"
    },
    {
     "data": {
      "application/vnd.jupyter.widget-view+json": {
       "model_id": "39f2cfeaf1934355b806ddd05be6328f",
       "version_major": 2,
       "version_minor": 0
      },
      "text/plain": [
       "JSProxyWidget(status='Not yet rendered')"
      ]
     },
     "metadata": {},
     "output_type": "display_data"
    }
   ],
   "source": [
    "#######################################\n",
    "# Specify the path to your dataset directory\n",
    "#######################################\n",
    "\n",
    "# You can use either a local path or a kbucket path\n",
    "# This directory should contain the following files:\n",
    "#   raw.mda\n",
    "#   geom.csv\n",
    "#   params.json\n",
    "\n",
    "#dsdir='/local/path/to/dataset'\n",
    "dsdir='kbucket://b5ecdf1474c5/datasets/synth_datasets/datasets/synth_tetrode_30min'\n",
    "view_dataset(dsdir,dataset_id='synth_tetrode_30min',external_link=False)"
   ]
  },
  {
   "cell_type": "code",
   "execution_count": 5,
   "metadata": {},
   "outputs": [],
   "source": [
    "#######################################\n",
    "# LARI login\n",
    "#######################################\n",
    "\n",
    "#lari_id='fdb573a66f50' ## lari_ccblin008\n",
    "#lari_id='19b775bb238f' ## lari_g5ub\n",
    "#lari_id='133898b2b079' ## lari_jm\n",
    "#lari_id='cb48a51bf9e5' ## lari_dub\n",
    "lari_id='' # local computer\n",
    "\n",
    "mlp.lariLogin(lari_id,lari_passcode=None)"
   ]
  },
  {
   "cell_type": "code",
   "execution_count": 6,
   "metadata": {},
   "outputs": [],
   "source": [
    "#######################################\n",
    "# Import sorting pipelines\n",
    "#######################################\n",
    "\n",
    "def append_to_path(dir0):\n",
    "    if dir0 not in sys.path:\n",
    "        sys.path.append(dir0)\n",
    "\n",
    "append_to_path(os.getcwd()+'/../..')\n",
    "from mountainsort4_1_0 import sort_dataset as ms4_sort_dataset\n",
    "\n",
    "append_to_path(os.getcwd()+'/../../spikeforest')\n",
    "from ironclust import sort_dataset as ironclust_sort_dataset"
   ]
  },
  {
   "cell_type": "code",
   "execution_count": 7,
   "metadata": {},
   "outputs": [
    {
     "name": "stdout",
     "output_type": "stream",
     "text": [
      "Directory already exists: /home/magland/src/ml/mountainsort_examples/jupyter_examples/example1/output\n"
     ]
    }
   ],
   "source": [
    "#######################################\n",
    "# Create output directory\n",
    "#######################################\n",
    "\n",
    "output_base_dir=os.getcwd()+'/output'\n",
    "#import shutil\n",
    "#if os.path.exists(output_base_dir):\n",
    "#    shutil.rmtree(output_base_dir)\n",
    "if not os.path.exists(output_base_dir):\n",
    "    print('Creating directory: {}'.format(output_base_dir))\n",
    "    os.mkdir(output_base_dir)\n",
    "else:\n",
    "    print('Directory already exists: {}'.format(output_base_dir))"
   ]
  },
  {
   "cell_type": "code",
   "execution_count": 8,
   "metadata": {},
   "outputs": [
    {
     "data": {
      "application/vnd.jupyter.widget-view+json": {
       "model_id": "f37412b30c7a4981a0f7ec8c50ed7b95",
       "version_major": 2,
       "version_minor": 0
      },
      "text/plain": [
       "JSProxyWidget(status='Not yet rendered')"
      ]
     },
     "metadata": {},
     "output_type": "display_data"
    }
   ],
   "source": [
    "#######################################\n",
    "# INITIALIZE THE PIPELINE (Note: for now it is important to have the job monitor in a separate cell) -- See https://github.com/AaronWatters/jp_proxy_widget/issues/2\n",
    "#######################################\n",
    "\n",
    "Pipeline=mlp.initPipeline()"
   ]
  },
  {
   "cell_type": "code",
   "execution_count": 9,
   "metadata": {},
   "outputs": [
    {
     "data": {
      "application/vnd.jupyter.widget-view+json": {
       "model_id": "5df27792bb1f4b8785b5a0396177d8fb",
       "version_major": 2,
       "version_minor": 0
      },
      "text/plain": [
       "Output()"
      ]
     },
     "metadata": {},
     "output_type": "display_data"
    },
    {
     "name": "stdout",
     "output_type": "stream",
     "text": [
      "Finished pipeline.\n"
     ]
    }
   ],
   "source": [
    "#######################################\n",
    "# RUN THE PIPELINE\n",
    "#######################################\n",
    "from spikeforest import add_run_to_pipeline\n",
    "output_dir=output_base_dir+'/ms4'\n",
    "with Pipeline:\n",
    "    ms4_sort_dataset(dataset_dir=dsdir,output_dir=output_dir,adjacency_radius=-1,detect_threshold=3)"
   ]
  }
 ],
 "metadata": {
  "kernelspec": {
   "display_name": "Python 3",
   "language": "python",
   "name": "python3"
  },
  "language_info": {
   "codemirror_mode": {
    "name": "ipython",
    "version": 3
   },
   "file_extension": ".py",
   "mimetype": "text/x-python",
   "name": "python",
   "nbconvert_exporter": "python",
   "pygments_lexer": "ipython3",
   "version": "3.6.6"
  }
 },
 "nbformat": 4,
 "nbformat_minor": 2
}
